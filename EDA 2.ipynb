{
 "cells": [
  {
   "cell_type": "markdown",
   "id": "f3dc1273-dbba-4875-b981-52b0bfa1f06e",
   "metadata": {},
   "source": [
    "# DATA PREPROCESSING AND FEATURE ENGINEERING IN MACHINE LEARNING"
   ]
  },
  {
   "cell_type": "markdown",
   "id": "f915ff15-8cb2-4e02-b82d-84c9fa5c4542",
   "metadata": {},
   "source": [
    "# 1. Data Exploration and Preprocessing"
   ]
  },
  {
   "cell_type": "markdown",
   "id": "3aa62f07-08ef-4777-b780-049b4caeaaf4",
   "metadata": {},
   "source": [
    "# \n",
    "conduct basic data exploration (summary statistics, missing values, data types)"
   ]
  },
  {
   "cell_type": "code",
   "execution_count": 1,
   "id": "aa05db4a-ea1b-4659-8108-ea96687c4fda",
   "metadata": {},
   "outputs": [
    {
     "data": {
      "text/html": [
       "<div>\n",
       "<style scoped>\n",
       "    .dataframe tbody tr th:only-of-type {\n",
       "        vertical-align: middle;\n",
       "    }\n",
       "\n",
       "    .dataframe tbody tr th {\n",
       "        vertical-align: top;\n",
       "    }\n",
       "\n",
       "    .dataframe thead th {\n",
       "        text-align: right;\n",
       "    }\n",
       "</style>\n",
       "<table border=\"1\" class=\"dataframe\">\n",
       "  <thead>\n",
       "    <tr style=\"text-align: right;\">\n",
       "      <th></th>\n",
       "      <th>age</th>\n",
       "      <th>workclass</th>\n",
       "      <th>fnlwgt</th>\n",
       "      <th>education</th>\n",
       "      <th>education_num</th>\n",
       "      <th>marital_status</th>\n",
       "      <th>occupation</th>\n",
       "      <th>relationship</th>\n",
       "      <th>race</th>\n",
       "      <th>sex</th>\n",
       "      <th>capital_gain</th>\n",
       "      <th>capital_loss</th>\n",
       "      <th>hours_per_week</th>\n",
       "      <th>native_country</th>\n",
       "      <th>income</th>\n",
       "    </tr>\n",
       "  </thead>\n",
       "  <tbody>\n",
       "    <tr>\n",
       "      <th>0</th>\n",
       "      <td>39</td>\n",
       "      <td>State-gov</td>\n",
       "      <td>77516</td>\n",
       "      <td>Bachelors</td>\n",
       "      <td>13</td>\n",
       "      <td>Never-married</td>\n",
       "      <td>Adm-clerical</td>\n",
       "      <td>Not-in-family</td>\n",
       "      <td>White</td>\n",
       "      <td>Male</td>\n",
       "      <td>2174</td>\n",
       "      <td>0</td>\n",
       "      <td>40</td>\n",
       "      <td>United-States</td>\n",
       "      <td>&lt;=50K</td>\n",
       "    </tr>\n",
       "    <tr>\n",
       "      <th>1</th>\n",
       "      <td>50</td>\n",
       "      <td>Self-emp-not-inc</td>\n",
       "      <td>83311</td>\n",
       "      <td>Bachelors</td>\n",
       "      <td>13</td>\n",
       "      <td>Married-civ-spouse</td>\n",
       "      <td>Exec-managerial</td>\n",
       "      <td>Husband</td>\n",
       "      <td>White</td>\n",
       "      <td>Male</td>\n",
       "      <td>0</td>\n",
       "      <td>0</td>\n",
       "      <td>13</td>\n",
       "      <td>United-States</td>\n",
       "      <td>&lt;=50K</td>\n",
       "    </tr>\n",
       "    <tr>\n",
       "      <th>2</th>\n",
       "      <td>38</td>\n",
       "      <td>Private</td>\n",
       "      <td>215646</td>\n",
       "      <td>HS-grad</td>\n",
       "      <td>9</td>\n",
       "      <td>Divorced</td>\n",
       "      <td>Handlers-cleaners</td>\n",
       "      <td>Not-in-family</td>\n",
       "      <td>White</td>\n",
       "      <td>Male</td>\n",
       "      <td>0</td>\n",
       "      <td>0</td>\n",
       "      <td>40</td>\n",
       "      <td>United-States</td>\n",
       "      <td>&lt;=50K</td>\n",
       "    </tr>\n",
       "    <tr>\n",
       "      <th>3</th>\n",
       "      <td>53</td>\n",
       "      <td>Private</td>\n",
       "      <td>234721</td>\n",
       "      <td>11th</td>\n",
       "      <td>7</td>\n",
       "      <td>Married-civ-spouse</td>\n",
       "      <td>Handlers-cleaners</td>\n",
       "      <td>Husband</td>\n",
       "      <td>Black</td>\n",
       "      <td>Male</td>\n",
       "      <td>0</td>\n",
       "      <td>0</td>\n",
       "      <td>40</td>\n",
       "      <td>United-States</td>\n",
       "      <td>&lt;=50K</td>\n",
       "    </tr>\n",
       "    <tr>\n",
       "      <th>4</th>\n",
       "      <td>28</td>\n",
       "      <td>Private</td>\n",
       "      <td>338409</td>\n",
       "      <td>Bachelors</td>\n",
       "      <td>13</td>\n",
       "      <td>Married-civ-spouse</td>\n",
       "      <td>Prof-specialty</td>\n",
       "      <td>Wife</td>\n",
       "      <td>Black</td>\n",
       "      <td>Female</td>\n",
       "      <td>0</td>\n",
       "      <td>0</td>\n",
       "      <td>40</td>\n",
       "      <td>Cuba</td>\n",
       "      <td>&lt;=50K</td>\n",
       "    </tr>\n",
       "    <tr>\n",
       "      <th>...</th>\n",
       "      <td>...</td>\n",
       "      <td>...</td>\n",
       "      <td>...</td>\n",
       "      <td>...</td>\n",
       "      <td>...</td>\n",
       "      <td>...</td>\n",
       "      <td>...</td>\n",
       "      <td>...</td>\n",
       "      <td>...</td>\n",
       "      <td>...</td>\n",
       "      <td>...</td>\n",
       "      <td>...</td>\n",
       "      <td>...</td>\n",
       "      <td>...</td>\n",
       "      <td>...</td>\n",
       "    </tr>\n",
       "    <tr>\n",
       "      <th>32556</th>\n",
       "      <td>27</td>\n",
       "      <td>Private</td>\n",
       "      <td>257302</td>\n",
       "      <td>Assoc-acdm</td>\n",
       "      <td>12</td>\n",
       "      <td>Married-civ-spouse</td>\n",
       "      <td>Tech-support</td>\n",
       "      <td>Wife</td>\n",
       "      <td>White</td>\n",
       "      <td>Female</td>\n",
       "      <td>0</td>\n",
       "      <td>0</td>\n",
       "      <td>38</td>\n",
       "      <td>United-States</td>\n",
       "      <td>&lt;=50K</td>\n",
       "    </tr>\n",
       "    <tr>\n",
       "      <th>32557</th>\n",
       "      <td>40</td>\n",
       "      <td>Private</td>\n",
       "      <td>154374</td>\n",
       "      <td>HS-grad</td>\n",
       "      <td>9</td>\n",
       "      <td>Married-civ-spouse</td>\n",
       "      <td>Machine-op-inspct</td>\n",
       "      <td>Husband</td>\n",
       "      <td>White</td>\n",
       "      <td>Male</td>\n",
       "      <td>0</td>\n",
       "      <td>0</td>\n",
       "      <td>40</td>\n",
       "      <td>United-States</td>\n",
       "      <td>&gt;50K</td>\n",
       "    </tr>\n",
       "    <tr>\n",
       "      <th>32558</th>\n",
       "      <td>58</td>\n",
       "      <td>Private</td>\n",
       "      <td>151910</td>\n",
       "      <td>HS-grad</td>\n",
       "      <td>9</td>\n",
       "      <td>Widowed</td>\n",
       "      <td>Adm-clerical</td>\n",
       "      <td>Unmarried</td>\n",
       "      <td>White</td>\n",
       "      <td>Female</td>\n",
       "      <td>0</td>\n",
       "      <td>0</td>\n",
       "      <td>40</td>\n",
       "      <td>United-States</td>\n",
       "      <td>&lt;=50K</td>\n",
       "    </tr>\n",
       "    <tr>\n",
       "      <th>32559</th>\n",
       "      <td>22</td>\n",
       "      <td>Private</td>\n",
       "      <td>201490</td>\n",
       "      <td>HS-grad</td>\n",
       "      <td>9</td>\n",
       "      <td>Never-married</td>\n",
       "      <td>Adm-clerical</td>\n",
       "      <td>Own-child</td>\n",
       "      <td>White</td>\n",
       "      <td>Male</td>\n",
       "      <td>0</td>\n",
       "      <td>0</td>\n",
       "      <td>20</td>\n",
       "      <td>United-States</td>\n",
       "      <td>&lt;=50K</td>\n",
       "    </tr>\n",
       "    <tr>\n",
       "      <th>32560</th>\n",
       "      <td>52</td>\n",
       "      <td>Self-emp-inc</td>\n",
       "      <td>287927</td>\n",
       "      <td>HS-grad</td>\n",
       "      <td>9</td>\n",
       "      <td>Married-civ-spouse</td>\n",
       "      <td>Exec-managerial</td>\n",
       "      <td>Wife</td>\n",
       "      <td>White</td>\n",
       "      <td>Female</td>\n",
       "      <td>15024</td>\n",
       "      <td>0</td>\n",
       "      <td>40</td>\n",
       "      <td>United-States</td>\n",
       "      <td>&gt;50K</td>\n",
       "    </tr>\n",
       "  </tbody>\n",
       "</table>\n",
       "<p>32561 rows × 15 columns</p>\n",
       "</div>"
      ],
      "text/plain": [
       "       age          workclass  fnlwgt    education  education_num  \\\n",
       "0       39          State-gov   77516    Bachelors             13   \n",
       "1       50   Self-emp-not-inc   83311    Bachelors             13   \n",
       "2       38            Private  215646      HS-grad              9   \n",
       "3       53            Private  234721         11th              7   \n",
       "4       28            Private  338409    Bachelors             13   \n",
       "...    ...                ...     ...          ...            ...   \n",
       "32556   27            Private  257302   Assoc-acdm             12   \n",
       "32557   40            Private  154374      HS-grad              9   \n",
       "32558   58            Private  151910      HS-grad              9   \n",
       "32559   22            Private  201490      HS-grad              9   \n",
       "32560   52       Self-emp-inc  287927      HS-grad              9   \n",
       "\n",
       "            marital_status          occupation    relationship    race  \\\n",
       "0            Never-married        Adm-clerical   Not-in-family   White   \n",
       "1       Married-civ-spouse     Exec-managerial         Husband   White   \n",
       "2                 Divorced   Handlers-cleaners   Not-in-family   White   \n",
       "3       Married-civ-spouse   Handlers-cleaners         Husband   Black   \n",
       "4       Married-civ-spouse      Prof-specialty            Wife   Black   \n",
       "...                    ...                 ...             ...     ...   \n",
       "32556   Married-civ-spouse        Tech-support            Wife   White   \n",
       "32557   Married-civ-spouse   Machine-op-inspct         Husband   White   \n",
       "32558              Widowed        Adm-clerical       Unmarried   White   \n",
       "32559        Never-married        Adm-clerical       Own-child   White   \n",
       "32560   Married-civ-spouse     Exec-managerial            Wife   White   \n",
       "\n",
       "           sex  capital_gain  capital_loss  hours_per_week  native_country  \\\n",
       "0         Male          2174             0              40   United-States   \n",
       "1         Male             0             0              13   United-States   \n",
       "2         Male             0             0              40   United-States   \n",
       "3         Male             0             0              40   United-States   \n",
       "4       Female             0             0              40            Cuba   \n",
       "...        ...           ...           ...             ...             ...   \n",
       "32556   Female             0             0              38   United-States   \n",
       "32557     Male             0             0              40   United-States   \n",
       "32558   Female             0             0              40   United-States   \n",
       "32559     Male             0             0              20   United-States   \n",
       "32560   Female         15024             0              40   United-States   \n",
       "\n",
       "       income  \n",
       "0       <=50K  \n",
       "1       <=50K  \n",
       "2       <=50K  \n",
       "3       <=50K  \n",
       "4       <=50K  \n",
       "...       ...  \n",
       "32556   <=50K  \n",
       "32557    >50K  \n",
       "32558   <=50K  \n",
       "32559   <=50K  \n",
       "32560    >50K  \n",
       "\n",
       "[32561 rows x 15 columns]"
      ]
     },
     "execution_count": 1,
     "metadata": {},
     "output_type": "execute_result"
    }
   ],
   "source": [
    "import pandas as pd\n",
    "df = pd.read_csv('adult_with_headers.csv')\n",
    "df"
   ]
  },
  {
   "cell_type": "code",
   "execution_count": 2,
   "id": "df4a8fef-6226-4b0b-a140-c5b6ac589b47",
   "metadata": {},
   "outputs": [
    {
     "name": "stdout",
     "output_type": "stream",
     "text": [
      "                age        fnlwgt  education_num  capital_gain  capital_loss  \\\n",
      "count  32561.000000  3.256100e+04   32561.000000  32561.000000  32561.000000   \n",
      "mean      38.581647  1.897784e+05      10.080679   1077.648844     87.303830   \n",
      "std       13.640433  1.055500e+05       2.572720   7385.292085    402.960219   \n",
      "min       17.000000  1.228500e+04       1.000000      0.000000      0.000000   \n",
      "25%       28.000000  1.178270e+05       9.000000      0.000000      0.000000   \n",
      "50%       37.000000  1.783560e+05      10.000000      0.000000      0.000000   \n",
      "75%       48.000000  2.370510e+05      12.000000      0.000000      0.000000   \n",
      "max       90.000000  1.484705e+06      16.000000  99999.000000   4356.000000   \n",
      "\n",
      "       hours_per_week  \n",
      "count    32561.000000  \n",
      "mean        40.437456  \n",
      "std         12.347429  \n",
      "min          1.000000  \n",
      "25%         40.000000  \n",
      "50%         40.000000  \n",
      "75%         45.000000  \n",
      "max         99.000000  \n"
     ]
    }
   ],
   "source": [
    "# Printing  the summary statistics of the dataset\n",
    "print(df.describe())"
   ]
  },
  {
   "cell_type": "code",
   "execution_count": 3,
   "id": "9b224417-0bd4-437d-96ed-1b6cf1f1346f",
   "metadata": {},
   "outputs": [
    {
     "name": "stdout",
     "output_type": "stream",
     "text": [
      "age                int64\n",
      "workclass         object\n",
      "fnlwgt             int64\n",
      "education         object\n",
      "education_num      int64\n",
      "marital_status    object\n",
      "occupation        object\n",
      "relationship      object\n",
      "race              object\n",
      "sex               object\n",
      "capital_gain       int64\n",
      "capital_loss       int64\n",
      "hours_per_week     int64\n",
      "native_country    object\n",
      "income            object\n",
      "dtype: object\n"
     ]
    }
   ],
   "source": [
    "# Print the data types of each column in the dataset\n",
    "print(df.dtypes)"
   ]
  },
  {
   "cell_type": "code",
   "execution_count": 4,
   "id": "1d176218-d0ac-4e23-9d26-162e90b28f3e",
   "metadata": {},
   "outputs": [
    {
     "name": "stdout",
     "output_type": "stream",
     "text": [
      "numarical data :        age  fnlwgt  education_num  capital_gain  capital_loss  hours_per_week\n",
      "0       39   77516             13          2174             0              40\n",
      "1       50   83311             13             0             0              13\n",
      "2       38  215646              9             0             0              40\n",
      "3       53  234721              7             0             0              40\n",
      "4       28  338409             13             0             0              40\n",
      "...    ...     ...            ...           ...           ...             ...\n",
      "32556   27  257302             12             0             0              38\n",
      "32557   40  154374              9             0             0              40\n",
      "32558   58  151910              9             0             0              40\n",
      "32559   22  201490              9             0             0              20\n",
      "32560   52  287927              9         15024             0              40\n",
      "\n",
      "[32561 rows x 6 columns]\n",
      "chatagorical data :                workclass    education       marital_status  \\\n",
      "0              State-gov    Bachelors        Never-married   \n",
      "1       Self-emp-not-inc    Bachelors   Married-civ-spouse   \n",
      "2                Private      HS-grad             Divorced   \n",
      "3                Private         11th   Married-civ-spouse   \n",
      "4                Private    Bachelors   Married-civ-spouse   \n",
      "...                  ...          ...                  ...   \n",
      "32556            Private   Assoc-acdm   Married-civ-spouse   \n",
      "32557            Private      HS-grad   Married-civ-spouse   \n",
      "32558            Private      HS-grad              Widowed   \n",
      "32559            Private      HS-grad        Never-married   \n",
      "32560       Self-emp-inc      HS-grad   Married-civ-spouse   \n",
      "\n",
      "               occupation    relationship    race      sex  native_country  \\\n",
      "0            Adm-clerical   Not-in-family   White     Male   United-States   \n",
      "1         Exec-managerial         Husband   White     Male   United-States   \n",
      "2       Handlers-cleaners   Not-in-family   White     Male   United-States   \n",
      "3       Handlers-cleaners         Husband   Black     Male   United-States   \n",
      "4          Prof-specialty            Wife   Black   Female            Cuba   \n",
      "...                   ...             ...     ...      ...             ...   \n",
      "32556        Tech-support            Wife   White   Female   United-States   \n",
      "32557   Machine-op-inspct         Husband   White     Male   United-States   \n",
      "32558        Adm-clerical       Unmarried   White   Female   United-States   \n",
      "32559        Adm-clerical       Own-child   White     Male   United-States   \n",
      "32560     Exec-managerial            Wife   White   Female   United-States   \n",
      "\n",
      "       income  \n",
      "0       <=50K  \n",
      "1       <=50K  \n",
      "2       <=50K  \n",
      "3       <=50K  \n",
      "4       <=50K  \n",
      "...       ...  \n",
      "32556   <=50K  \n",
      "32557    >50K  \n",
      "32558   <=50K  \n",
      "32559   <=50K  \n",
      "32560    >50K  \n",
      "\n",
      "[32561 rows x 9 columns]\n"
     ]
    }
   ],
   "source": [
    "numerical_data = df.select_dtypes(include=['int64', 'float64'])\n",
    "categorical_data = df.select_dtypes(include=['object'])\n",
    "print ('numarical data :',numerical_data)\n",
    "print ('chatagorical data :',categorical_data)"
   ]
  },
  {
   "cell_type": "markdown",
   "id": "d2d60382-eccc-4279-88d7-7d2a2cc78f55",
   "metadata": {},
   "source": [
    "# Handling missing values (imputation, removal, etc.)."
   ]
  },
  {
   "cell_type": "code",
   "execution_count": 5,
   "id": "92ea283f-d3fa-4f30-93c7-2201c60cdcc0",
   "metadata": {},
   "outputs": [
    {
     "name": "stdout",
     "output_type": "stream",
     "text": [
      "age               0\n",
      "workclass         0\n",
      "fnlwgt            0\n",
      "education         0\n",
      "education_num     0\n",
      "marital_status    0\n",
      "occupation        0\n",
      "relationship      0\n",
      "race              0\n",
      "sex               0\n",
      "capital_gain      0\n",
      "capital_loss      0\n",
      "hours_per_week    0\n",
      "native_country    0\n",
      "income            0\n",
      "dtype: int64\n"
     ]
    }
   ],
   "source": [
    "# Check for missing values\n",
    "missing_values = df.isnull().sum()\n",
    "\n",
    "# Impute missing values for numerical columns\n",
    "numerical_columns = df.select_dtypes(include=['int64', 'float64']).columns\n",
    "df[numerical_columns] = df[numerical_columns].fillna(df[numerical_columns].mean())\n",
    "\n",
    "# Impute missing values for categorical columns\n",
    "categorical_columns = df.select_dtypes(include=['object']).columns\n",
    "df[categorical_columns] = df[categorical_columns].fillna(df[categorical_columns].mode().iloc[0])\n",
    "\n",
    "# Check for missing values again\n",
    "print(df.isnull().sum())"
   ]
  },
  {
   "cell_type": "markdown",
   "id": "9173e484-0d04-412f-8686-917a16192482",
   "metadata": {},
   "source": [
    "# Applying scaling techniques to numerical features:"
   ]
  },
  {
   "cell_type": "markdown",
   "id": "b5209c02-eb06-4a72-af8b-a2b6485dd6b4",
   "metadata": {},
   "source": [
    "# Standard Scaling"
   ]
  },
  {
   "cell_type": "markdown",
   "id": "2909d54d-fd3d-47b0-8873-e4c2f48185a6",
   "metadata": {},
   "source": [
    "# Min-Max Scaling"
   ]
  },
  {
   "cell_type": "code",
   "execution_count": 6,
   "id": "f193bf7a-0ac5-44d9-bd42-e0477b2f3f5c",
   "metadata": {},
   "outputs": [
    {
     "name": "stdout",
     "output_type": "stream",
     "text": [
      "scaling techniques applyed sucessfully\n"
     ]
    }
   ],
   "source": [
    "import pandas as pd\n",
    "from sklearn.preprocessing import StandardScaler, MinMaxScaler\n",
    "\n",
    "# Standard Scaling\n",
    "scaler = StandardScaler()\n",
    "scaled_data = scaler.fit_transform(df[numerical_columns])\n",
    "df_scaled = pd.DataFrame(scaled_data, columns=numerical_columns)\n",
    "\n",
    "# Min-Max Scaling\n",
    "scaler = MinMaxScaler()\n",
    "scaled_data = scaler.fit_transform(df[numerical_columns])\n",
    "df_minmax = pd.DataFrame(scaled_data, columns=numerical_columns)\n",
    "print('scaling techniques applyed sucessfully')"
   ]
  },
  {
   "cell_type": "markdown",
   "id": "5e567ced-6ce4-4480-9d49-0255adaefd3a",
   "metadata": {},
   "source": [
    "# Discuss the scenarios where each scaling technique is preferred and why"
   ]
  },
  {
   "cell_type": "markdown",
   "id": "5e550766-1040-4cf1-8852-47b65613d4e6",
   "metadata": {},
   "source": [
    "# 2. Encoding Techniques:"
   ]
  },
  {
   "cell_type": "markdown",
   "id": "d5744a07-d050-4fcc-abb3-c835b0c290f3",
   "metadata": {},
   "source": [
    "# Applying One-Hot Encoding to categorical variables with less than 5 categories"
   ]
  },
  {
   "cell_type": "code",
   "execution_count": 7,
   "id": "9f3f5432-91e8-498c-814f-86479931785d",
   "metadata": {},
   "outputs": [
    {
     "name": "stdout",
     "output_type": "stream",
     "text": [
      "   age          workclass  fnlwgt   education  education_num  \\\n",
      "0   39          State-gov   77516   Bachelors             13   \n",
      "1   50   Self-emp-not-inc   83311   Bachelors             13   \n",
      "2   38            Private  215646     HS-grad              9   \n",
      "3   53            Private  234721        11th              7   \n",
      "4   28            Private  338409   Bachelors             13   \n",
      "\n",
      "        marital_status          occupation    relationship    race  \\\n",
      "0        Never-married        Adm-clerical   Not-in-family   White   \n",
      "1   Married-civ-spouse     Exec-managerial         Husband   White   \n",
      "2             Divorced   Handlers-cleaners   Not-in-family   White   \n",
      "3   Married-civ-spouse   Handlers-cleaners         Husband   Black   \n",
      "4   Married-civ-spouse      Prof-specialty            Wife   Black   \n",
      "\n",
      "   capital_gain  capital_loss  hours_per_week  native_country  sex_ Female  \\\n",
      "0          2174             0              40   United-States            0   \n",
      "1             0             0              13   United-States            0   \n",
      "2             0             0              40   United-States            0   \n",
      "3             0             0              40   United-States            0   \n",
      "4             0             0              40            Cuba            1   \n",
      "\n",
      "   sex_ Male  income_ <=50K  income_ >50K  \n",
      "0          1              1             0  \n",
      "1          1              1             0  \n",
      "2          1              1             0  \n",
      "3          1              1             0  \n",
      "4          0              1             0  \n"
     ]
    }
   ],
   "source": [
    "import pandas as pd\n",
    "for col in categorical_columns:\n",
    "    if df[col].nunique() < 5:\n",
    "        df_dummies = pd.get_dummies(df[col], prefix=col)\n",
    "        df = pd.concat([df, df_dummies], axis=1)\n",
    "        df.drop(col, axis=1, inplace=True)\n",
    "\n",
    "# Print the updated DataFrame\n",
    "print(df.head())"
   ]
  },
  {
   "cell_type": "markdown",
   "id": "a8d01548-a14e-4963-8ae0-ef7b9edc5371",
   "metadata": {},
   "source": [
    " # Using Label Encoding for categorical variables with more than 5 categories"
   ]
  },
  {
   "cell_type": "code",
   "execution_count": 8,
   "id": "d63036c6-1dc2-46f5-a97d-748b0969bb65",
   "metadata": {},
   "outputs": [
    {
     "name": "stdout",
     "output_type": "stream",
     "text": [
      "   age  workclass  fnlwgt  education  education_num  marital_status  \\\n",
      "0   39          7   77516          9             13               4   \n",
      "1   50          6   83311          9             13               2   \n",
      "2   38          4  215646         11              9               0   \n",
      "3   53          4  234721          1              7               2   \n",
      "4   28          4  338409          9             13               2   \n",
      "\n",
      "   occupation  relationship    race  capital_gain  capital_loss  \\\n",
      "0           1             1   White          2174             0   \n",
      "1           4             0   White             0             0   \n",
      "2           6             1   White             0             0   \n",
      "3           6             0   Black             0             0   \n",
      "4          10             5   Black             0             0   \n",
      "\n",
      "   hours_per_week  native_country  sex_ Female  sex_ Male  income_ <=50K  \\\n",
      "0              40              39            0          1              1   \n",
      "1              13              39            0          1              1   \n",
      "2              40              39            0          1              1   \n",
      "3              40              39            0          1              1   \n",
      "4              40               5            1          0              1   \n",
      "\n",
      "   income_ >50K  \n",
      "0             0  \n",
      "1             0  \n",
      "2             0  \n",
      "3             0  \n",
      "4             0  \n"
     ]
    }
   ],
   "source": [
    "# applying Label encoding for categorical variables with more than 5 categories\n",
    "from sklearn.preprocessing import LabelEncoder\n",
    "\n",
    "categorical_columns = df.select_dtypes(include=['object']).columns\n",
    "for col in categorical_columns:\n",
    "    if df[col].nunique() > 5:\n",
    "        le = LabelEncoder()\n",
    "        df[col] = le.fit_transform(df[col])\n",
    "\n",
    "# Print the updated DataFrame\n",
    "print(df.head())"
   ]
  },
  {
   "cell_type": "markdown",
   "id": "13048526-e161-4014-9adc-83750a904a9c",
   "metadata": {},
   "source": [
    "# Discuss the pros and cons of One-Hot Encoding and Label Encoding"
   ]
  },
  {
   "cell_type": "raw",
   "id": "3fa39915-3bc2-4d11-b51b-39071c2d3816",
   "metadata": {},
   "source": [
    "One-Hot Encoding\n",
    "Pros:\n",
    "\n",
    "No Ordinal Relationship Assumed.\n",
    "Preventing Bias.\n",
    "Compatibility with Algorithms.\n",
    "Cons:\n",
    "\n",
    "High Dimensionality.\n",
    "Sparse Representation.\n",
    "Feature Importance Interpretation.\n",
    "\n",
    "    \n",
    "    Label Encoding\n",
    "Pros:\n",
    "\n",
    "Simplicity and Efficiency.\n",
    "Order Preservation.\n",
    "Reduced Computational Complexity.\n",
    "\n",
    "Cons:\n",
    "\n",
    "Ordinal Relationship Assumption.\n",
    "Inappropriate for Some Algorithms.\n",
    "Potential Misleading Relationships."
   ]
  },
  {
   "cell_type": "markdown",
   "id": "bc4493f2-b122-4b5c-9971-e6941d633bfd",
   "metadata": {},
   "source": [
    "# 3. Feature Engineering"
   ]
  },
  {
   "cell_type": "code",
   "execution_count": 9,
   "id": "cb07b421-34fb-442b-9886-5d8081be290b",
   "metadata": {},
   "outputs": [
    {
     "name": "stdout",
     "output_type": "stream",
     "text": [
      "                     age    fnlwgt  education_num  capital_gain  capital_loss  \\\n",
      "age             1.000000 -0.076646       0.036527      0.077674      0.057775   \n",
      "fnlwgt         -0.076646  1.000000      -0.043195      0.000432     -0.010252   \n",
      "education_num   0.036527 -0.043195       1.000000      0.122630      0.079923   \n",
      "capital_gain    0.077674  0.000432       0.122630      1.000000     -0.031615   \n",
      "capital_loss    0.057775 -0.010252       0.079923     -0.031615      1.000000   \n",
      "hours_per_week  0.068756 -0.018768       0.148123      0.078409      0.054256   \n",
      "\n",
      "                hours_per_week  \n",
      "age                   0.068756  \n",
      "fnlwgt               -0.018768  \n",
      "education_num         0.148123  \n",
      "capital_gain          0.078409  \n",
      "capital_loss          0.054256  \n",
      "hours_per_week        1.000000  \n"
     ]
    }
   ],
   "source": [
    "import pandas as pd\n",
    "\n",
    "# Calculate the correlation matrix of the numerical data\n",
    "correlation_matrix = numerical_data.corr()\n",
    "\n",
    "# Print the correlation matrix\n",
    "print(correlation_matrix)"
   ]
  },
  {
   "cell_type": "markdown",
   "id": "d990a120-2600-407b-908c-e7c1664a70fd",
   "metadata": {},
   "source": [
    "# Apply a transformation (e.g., log transformation) to at least one skewed numerical feature and justify your choice"
   ]
  },
  {
   "cell_type": "code",
   "execution_count": 10,
   "id": "75f9f0ce-09c4-4035-86c4-d3569891f12f",
   "metadata": {},
   "outputs": [
    {
     "name": "stdout",
     "output_type": "stream",
     "text": [
      "Log transformation was chosen for the 'Flight_weight' feature because it is skewed to the right.\n",
      "Log transformation compresses the range of the data and reduces the influence of outliers.\n"
     ]
    }
   ],
   "source": [
    "import numpy as np\n",
    "# Select a skewed numerical feature\n",
    "skewed_feature = df['fnlwgt']\n",
    "\n",
    "# Apply log transformation\n",
    "df['fnlwgt'] = np.log(df['fnlwgt'])\n",
    "\n",
    "# Justify the choice\n",
    "print(\"Log transformation was chosen for the 'Flight_weight' feature because it is skewed to the right.\")\n",
    "print(\"Log transformation compresses the range of the data and reduces the influence of outliers.\")"
   ]
  },
  {
   "cell_type": "markdown",
   "id": "2fa45a3d-0836-4d7b-aedc-b349208cce03",
   "metadata": {},
   "source": [
    "# 4. Feature Selection:"
   ]
  },
  {
   "cell_type": "markdown",
   "id": "7c1f556c-cc1a-48fe-9a9f-4cf28d11fd79",
   "metadata": {},
   "source": [
    "# Using the Isolation Forest algorithm to identify and remove outliers."
   ]
  },
  {
   "cell_type": "code",
   "execution_count": 11,
   "id": "b4cd24b8-772e-44d0-a238-42c6dc2550e7",
   "metadata": {},
   "outputs": [
    {
     "name": "stdout",
     "output_type": "stream",
     "text": [
      "Number of outlier samples: 3678\n"
     ]
    }
   ],
   "source": [
    "from sklearn.ensemble import IsolationForest\n",
    "\n",
    "# Creating an instance of the Isolation Forest algorithm\n",
    "iso = IsolationForest(contamination='auto')\n",
    "\n",
    "# Fitting the model to the data\n",
    "iso.fit(numerical_data)\n",
    "\n",
    "# Predict outliers using the Isolation Forest model\n",
    "outlier_preds = iso.predict(numerical_data)\n",
    "\n",
    "# Identify the outlier samples (outliers are marked as -1 by the Isolation Forest)\n",
    "outlier_index = outlier_preds == -1\n",
    "\n",
    "# Remove the outlier samples from the data\n",
    "df_clean = numerical_data[~outlier_index]\n",
    "\n",
    "# Print the number of outlier samples\n",
    "print(f\"Number of outlier samples: {sum(outlier_index)}\")"
   ]
  },
  {
   "cell_type": "markdown",
   "id": "72ed258f-ad0f-428d-8b68-458073a6121b",
   "metadata": {},
   "source": [
    "# Discuss how outliers can affect model performance"
   ]
  },
  {
   "cell_type": "code",
   "execution_count": 12,
   "id": "bb594c49-dd09-4fed-9e6c-1a7062b047c5",
   "metadata": {},
   "outputs": [
    {
     "name": "stdout",
     "output_type": "stream",
     "text": [
      "                     age  workclass    fnlwgt  education  education_num  \\\n",
      "age             1.000000   0.003787 -0.060188  -0.010508       0.036527   \n",
      "workclass       0.003787   1.000000 -0.014909   0.023513       0.052085   \n",
      "fnlwgt         -0.060188  -0.014909  1.000000  -0.028731      -0.037585   \n",
      "education      -0.010508   0.023513 -0.028731   1.000000       0.359153   \n",
      "education_num   0.036527   0.052085 -0.037585   0.359153       1.000000   \n",
      "marital_status -0.266288  -0.064731  0.025822  -0.038407      -0.069304   \n",
      "occupation     -0.020947   0.254892  0.003256  -0.021260       0.109697   \n",
      "relationship   -0.263698  -0.090461  0.011122  -0.010876      -0.094153   \n",
      "capital_gain    0.077674   0.033835  0.003564   0.030046       0.122630   \n",
      "capital_loss    0.057775   0.012216 -0.005085   0.016746       0.079923   \n",
      "hours_per_week  0.068756   0.138962 -0.024333   0.055510       0.148123   \n",
      "native_country -0.001151  -0.007690 -0.059978   0.064288       0.050840   \n",
      "sex_ Female    -0.088832  -0.095981 -0.019337   0.027356      -0.012280   \n",
      "sex_ Male       0.088832   0.095981  0.019337  -0.027356       0.012280   \n",
      "income_ <=50K  -0.234037  -0.051604  0.001373  -0.079317      -0.335154   \n",
      "income_ >50K    0.234037   0.051604 -0.001373   0.079317       0.335154   \n",
      "\n",
      "                marital_status  occupation  relationship  capital_gain  \\\n",
      "age                  -0.266288   -0.020947     -0.263698      0.077674   \n",
      "workclass            -0.064731    0.254892     -0.090461      0.033835   \n",
      "fnlwgt                0.025822    0.003256      0.011122      0.003564   \n",
      "education            -0.038407   -0.021260     -0.010876      0.030046   \n",
      "education_num        -0.069304    0.109697     -0.094153      0.122630   \n",
      "marital_status        1.000000   -0.009654      0.185451     -0.043393   \n",
      "occupation           -0.009654    1.000000     -0.075607      0.025505   \n",
      "relationship          0.185451   -0.075607      1.000000     -0.057919   \n",
      "capital_gain         -0.043393    0.025505     -0.057919      1.000000   \n",
      "capital_loss         -0.034187    0.017987     -0.061062     -0.031615   \n",
      "hours_per_week       -0.190519    0.080383     -0.248974      0.078409   \n",
      "native_country       -0.023819   -0.012543     -0.005507     -0.001982   \n",
      "sex_ Female           0.129314   -0.080296      0.582454     -0.048480   \n",
      "sex_ Male            -0.129314    0.080296     -0.582454      0.048480   \n",
      "income_ <=50K         0.199307   -0.075468      0.250918     -0.223329   \n",
      "income_ >50K         -0.199307    0.075468     -0.250918      0.223329   \n",
      "\n",
      "                capital_loss  hours_per_week  native_country  sex_ Female  \\\n",
      "age                 0.057775        0.068756       -0.001151    -0.088832   \n",
      "workclass           0.012216        0.138962       -0.007690    -0.095981   \n",
      "fnlwgt             -0.005085       -0.024333       -0.059978    -0.019337   \n",
      "education           0.016746        0.055510        0.064288     0.027356   \n",
      "education_num       0.079923        0.148123        0.050840    -0.012280   \n",
      "marital_status     -0.034187       -0.190519       -0.023819     0.129314   \n",
      "occupation          0.017987        0.080383       -0.012543    -0.080296   \n",
      "relationship       -0.061062       -0.248974       -0.005507     0.582454   \n",
      "capital_gain       -0.031615        0.078409       -0.001982    -0.048480   \n",
      "capital_loss        1.000000        0.054256        0.000419    -0.045567   \n",
      "hours_per_week      0.054256        1.000000       -0.002671    -0.229309   \n",
      "native_country      0.000419       -0.002671        1.000000     0.008119   \n",
      "sex_ Female        -0.045567       -0.229309        0.008119     1.000000   \n",
      "sex_ Male           0.045567        0.229309       -0.008119    -1.000000   \n",
      "income_ <=50K      -0.150526       -0.229689       -0.015840     0.215980   \n",
      "income_ >50K        0.150526        0.229689        0.015840    -0.215980   \n",
      "\n",
      "                sex_ Male  income_ <=50K  income_ >50K  \n",
      "age              0.088832      -0.234037      0.234037  \n",
      "workclass        0.095981      -0.051604      0.051604  \n",
      "fnlwgt           0.019337       0.001373     -0.001373  \n",
      "education       -0.027356      -0.079317      0.079317  \n",
      "education_num    0.012280      -0.335154      0.335154  \n",
      "marital_status  -0.129314       0.199307     -0.199307  \n",
      "occupation       0.080296      -0.075468      0.075468  \n",
      "relationship    -0.582454       0.250918     -0.250918  \n",
      "capital_gain     0.048480      -0.223329      0.223329  \n",
      "capital_loss     0.045567      -0.150526      0.150526  \n",
      "hours_per_week   0.229309      -0.229689      0.229689  \n",
      "native_country  -0.008119      -0.015840      0.015840  \n",
      "sex_ Female     -1.000000       0.215980     -0.215980  \n",
      "sex_ Male        1.000000      -0.215980      0.215980  \n",
      "income_ <=50K   -0.215980       1.000000     -1.000000  \n",
      "income_ >50K     0.215980      -1.000000      1.000000  \n"
     ]
    },
    {
     "name": "stderr",
     "output_type": "stream",
     "text": [
      "C:\\Users\\New\\AppData\\Local\\Temp\\ipykernel_3984\\450076430.py:4: FutureWarning: The default value of numeric_only in DataFrame.corr is deprecated. In a future version, it will default to False. Select only valid columns or specify the value of numeric_only to silence this warning.\n",
      "  pps_matrix = df.corr()\n"
     ]
    }
   ],
   "source": [
    "# Calculating  the PPS matrix\n",
    "\n",
    "import ppscore as pps\n",
    "pps_matrix = df.corr()\n",
    "\n",
    "# Print the PPS matrix\n",
    "print(pps_matrix)"
   ]
  },
  {
   "cell_type": "code",
   "execution_count": 13,
   "id": "cf91a7b1-9628-4d39-82eb-72b67b04c561",
   "metadata": {},
   "outputs": [
    {
     "name": "stderr",
     "output_type": "stream",
     "text": [
      "C:\\Users\\New\\AppData\\Local\\Temp\\ipykernel_3984\\950280190.py:2: FutureWarning: The default value of numeric_only in DataFrame.corr is deprecated. In a future version, it will default to False. Select only valid columns or specify the value of numeric_only to silence this warning.\n",
      "  corr_matrix = df.corr()\n"
     ]
    },
    {
     "name": "stdout",
     "output_type": "stream",
     "text": [
      "                     age  workclass    fnlwgt  education  education_num  \\\n",
      "age             1.000000   0.003787 -0.060188  -0.010508       0.036527   \n",
      "workclass       0.003787   1.000000 -0.014909   0.023513       0.052085   \n",
      "fnlwgt         -0.060188  -0.014909  1.000000  -0.028731      -0.037585   \n",
      "education      -0.010508   0.023513 -0.028731   1.000000       0.359153   \n",
      "education_num   0.036527   0.052085 -0.037585   0.359153       1.000000   \n",
      "marital_status -0.266288  -0.064731  0.025822  -0.038407      -0.069304   \n",
      "occupation     -0.020947   0.254892  0.003256  -0.021260       0.109697   \n",
      "relationship   -0.263698  -0.090461  0.011122  -0.010876      -0.094153   \n",
      "capital_gain    0.077674   0.033835  0.003564   0.030046       0.122630   \n",
      "capital_loss    0.057775   0.012216 -0.005085   0.016746       0.079923   \n",
      "hours_per_week  0.068756   0.138962 -0.024333   0.055510       0.148123   \n",
      "native_country -0.001151  -0.007690 -0.059978   0.064288       0.050840   \n",
      "sex_ Female    -0.088832  -0.095981 -0.019337   0.027356      -0.012280   \n",
      "sex_ Male       0.088832   0.095981  0.019337  -0.027356       0.012280   \n",
      "income_ <=50K  -0.234037  -0.051604  0.001373  -0.079317      -0.335154   \n",
      "income_ >50K    0.234037   0.051604 -0.001373   0.079317       0.335154   \n",
      "\n",
      "                marital_status  occupation  relationship  capital_gain  \\\n",
      "age                  -0.266288   -0.020947     -0.263698      0.077674   \n",
      "workclass            -0.064731    0.254892     -0.090461      0.033835   \n",
      "fnlwgt                0.025822    0.003256      0.011122      0.003564   \n",
      "education            -0.038407   -0.021260     -0.010876      0.030046   \n",
      "education_num        -0.069304    0.109697     -0.094153      0.122630   \n",
      "marital_status        1.000000   -0.009654      0.185451     -0.043393   \n",
      "occupation           -0.009654    1.000000     -0.075607      0.025505   \n",
      "relationship          0.185451   -0.075607      1.000000     -0.057919   \n",
      "capital_gain         -0.043393    0.025505     -0.057919      1.000000   \n",
      "capital_loss         -0.034187    0.017987     -0.061062     -0.031615   \n",
      "hours_per_week       -0.190519    0.080383     -0.248974      0.078409   \n",
      "native_country       -0.023819   -0.012543     -0.005507     -0.001982   \n",
      "sex_ Female           0.129314   -0.080296      0.582454     -0.048480   \n",
      "sex_ Male            -0.129314    0.080296     -0.582454      0.048480   \n",
      "income_ <=50K         0.199307   -0.075468      0.250918     -0.223329   \n",
      "income_ >50K         -0.199307    0.075468     -0.250918      0.223329   \n",
      "\n",
      "                capital_loss  hours_per_week  native_country  sex_ Female  \\\n",
      "age                 0.057775        0.068756       -0.001151    -0.088832   \n",
      "workclass           0.012216        0.138962       -0.007690    -0.095981   \n",
      "fnlwgt             -0.005085       -0.024333       -0.059978    -0.019337   \n",
      "education           0.016746        0.055510        0.064288     0.027356   \n",
      "education_num       0.079923        0.148123        0.050840    -0.012280   \n",
      "marital_status     -0.034187       -0.190519       -0.023819     0.129314   \n",
      "occupation          0.017987        0.080383       -0.012543    -0.080296   \n",
      "relationship       -0.061062       -0.248974       -0.005507     0.582454   \n",
      "capital_gain       -0.031615        0.078409       -0.001982    -0.048480   \n",
      "capital_loss        1.000000        0.054256        0.000419    -0.045567   \n",
      "hours_per_week      0.054256        1.000000       -0.002671    -0.229309   \n",
      "native_country      0.000419       -0.002671        1.000000     0.008119   \n",
      "sex_ Female        -0.045567       -0.229309        0.008119     1.000000   \n",
      "sex_ Male           0.045567        0.229309       -0.008119    -1.000000   \n",
      "income_ <=50K      -0.150526       -0.229689       -0.015840     0.215980   \n",
      "income_ >50K        0.150526        0.229689        0.015840    -0.215980   \n",
      "\n",
      "                sex_ Male  income_ <=50K  income_ >50K  \n",
      "age              0.088832      -0.234037      0.234037  \n",
      "workclass        0.095981      -0.051604      0.051604  \n",
      "fnlwgt           0.019337       0.001373     -0.001373  \n",
      "education       -0.027356      -0.079317      0.079317  \n",
      "education_num    0.012280      -0.335154      0.335154  \n",
      "marital_status  -0.129314       0.199307     -0.199307  \n",
      "occupation       0.080296      -0.075468      0.075468  \n",
      "relationship    -0.582454       0.250918     -0.250918  \n",
      "capital_gain     0.048480      -0.223329      0.223329  \n",
      "capital_loss     0.045567      -0.150526      0.150526  \n",
      "hours_per_week   0.229309      -0.229689      0.229689  \n",
      "native_country  -0.008119      -0.015840      0.015840  \n",
      "sex_ Female     -1.000000       0.215980     -0.215980  \n",
      "sex_ Male        1.000000      -0.215980      0.215980  \n",
      "income_ <=50K   -0.215980       1.000000     -1.000000  \n",
      "income_ >50K     0.215980      -1.000000      1.000000  \n"
     ]
    }
   ],
   "source": [
    "# Compare the PPS matrix with the correlation matrix\n",
    "corr_matrix = df.corr()\n",
    "print(corr_matrix)"
   ]
  },
  {
   "cell_type": "raw",
   "id": "18ddf3ce-afff-4f19-aa14-0da83d0031f2",
   "metadata": {},
   "source": [
    "Similarities:\n",
    " Both matrices show the relationships between features.\n",
    " Both matrices are symmetric.\n",
    " Both matrices have a diagonal of 1s.\n",
    "Differences:\n",
    " The PPS matrix is a measure of the predictive power of each feature, while the correlation matrix is a measure of the linear relationship between features.\n",
    " The PPS matrix can be used to select features for a model, while the correlation matrix cannot.\n"
   ]
  },
  {
   "cell_type": "code",
   "execution_count": 15,
   "id": "71cc9869-96f4-4837-827c-9f1f522a35b1",
   "metadata": {},
   "outputs": [
    {
     "name": "stdout",
     "output_type": "stream",
     "text": [
      "Based on the PPS matrix, the following features have the strongest relationships:\n",
      "* sex_ Female and sex_ Male\n",
      "* income_ <=50K and income_ >50K\n"
     ]
    }
   ],
   "source": [
    "# Discuss the relationships between features based on the PPS matrix\n",
    "print(\"Based on the PPS matrix, the following features have the strongest relationships:\")\n",
    "for i in range(len(pps_matrix.columns)):\n",
    "    for j in range(i+1, len(pps_matrix.columns)):\n",
    "        if abs(pps_matrix.iloc[i, j]) > 0.7:\n",
    "            print(f\"* {pps_matrix.columns[i]} and {pps_matrix.columns[j]}\")"
   ]
  },
  {
   "cell_type": "code",
   "execution_count": null,
   "id": "a800c9eb-9d87-4612-be77-86365fd0e43b",
   "metadata": {},
   "outputs": [],
   "source": []
  }
 ],
 "metadata": {
  "kernelspec": {
   "display_name": "Python 3 (ipykernel)",
   "language": "python",
   "name": "python3"
  },
  "language_info": {
   "codemirror_mode": {
    "name": "ipython",
    "version": 3
   },
   "file_extension": ".py",
   "mimetype": "text/x-python",
   "name": "python",
   "nbconvert_exporter": "python",
   "pygments_lexer": "ipython3",
   "version": "3.11.7"
  }
 },
 "nbformat": 4,
 "nbformat_minor": 5
}
