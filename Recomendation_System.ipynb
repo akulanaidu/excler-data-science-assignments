{
 "cells": [
  {
   "cell_type": "markdown",
   "id": "2b02e7ed-ee48-42fe-b55f-9f549814e260",
   "metadata": {},
   "source": [
    "# Recomendation system"
   ]
  },
  {
   "cell_type": "code",
   "execution_count": 1,
   "id": "914681aa-d00e-4db7-86cd-46efd0e1a016",
   "metadata": {},
   "outputs": [],
   "source": [
    "import pandas as pd\n",
    "from sklearn.metrics.pairwise import cosine_similarity\n",
    "from sklearn.model_selection import train_test_split\n",
    "from sklearn.preprocessing import MultiLabelBinarizer, StandardScaler"
   ]
  },
  {
   "cell_type": "code",
   "execution_count": 3,
   "id": "ca54d694",
   "metadata": {},
   "outputs": [
    {
     "data": {
      "text/html": [
       "<div>\n",
       "<style scoped>\n",
       "    .dataframe tbody tr th:only-of-type {\n",
       "        vertical-align: middle;\n",
       "    }\n",
       "\n",
       "    .dataframe tbody tr th {\n",
       "        vertical-align: top;\n",
       "    }\n",
       "\n",
       "    .dataframe thead th {\n",
       "        text-align: right;\n",
       "    }\n",
       "</style>\n",
       "<table border=\"1\" class=\"dataframe\">\n",
       "  <thead>\n",
       "    <tr style=\"text-align: right;\">\n",
       "      <th></th>\n",
       "      <th>anime_id</th>\n",
       "      <th>name</th>\n",
       "      <th>genre</th>\n",
       "      <th>type</th>\n",
       "      <th>episodes</th>\n",
       "      <th>rating</th>\n",
       "      <th>members</th>\n",
       "    </tr>\n",
       "  </thead>\n",
       "  <tbody>\n",
       "    <tr>\n",
       "      <th>0</th>\n",
       "      <td>32281</td>\n",
       "      <td>Kimi no Na wa.</td>\n",
       "      <td>Drama, Romance, School, Supernatural</td>\n",
       "      <td>Movie</td>\n",
       "      <td>1</td>\n",
       "      <td>9.37</td>\n",
       "      <td>200630</td>\n",
       "    </tr>\n",
       "    <tr>\n",
       "      <th>1</th>\n",
       "      <td>5114</td>\n",
       "      <td>Fullmetal Alchemist: Brotherhood</td>\n",
       "      <td>Action, Adventure, Drama, Fantasy, Magic, Mili...</td>\n",
       "      <td>TV</td>\n",
       "      <td>64</td>\n",
       "      <td>9.26</td>\n",
       "      <td>793665</td>\n",
       "    </tr>\n",
       "    <tr>\n",
       "      <th>2</th>\n",
       "      <td>28977</td>\n",
       "      <td>Gintama°</td>\n",
       "      <td>Action, Comedy, Historical, Parody, Samurai, S...</td>\n",
       "      <td>TV</td>\n",
       "      <td>51</td>\n",
       "      <td>9.25</td>\n",
       "      <td>114262</td>\n",
       "    </tr>\n",
       "    <tr>\n",
       "      <th>3</th>\n",
       "      <td>9253</td>\n",
       "      <td>Steins;Gate</td>\n",
       "      <td>Sci-Fi, Thriller</td>\n",
       "      <td>TV</td>\n",
       "      <td>24</td>\n",
       "      <td>9.17</td>\n",
       "      <td>673572</td>\n",
       "    </tr>\n",
       "    <tr>\n",
       "      <th>4</th>\n",
       "      <td>9969</td>\n",
       "      <td>Gintama&amp;#039;</td>\n",
       "      <td>Action, Comedy, Historical, Parody, Samurai, S...</td>\n",
       "      <td>TV</td>\n",
       "      <td>51</td>\n",
       "      <td>9.16</td>\n",
       "      <td>151266</td>\n",
       "    </tr>\n",
       "  </tbody>\n",
       "</table>\n",
       "</div>"
      ],
      "text/plain": [
       "   anime_id                              name  \\\n",
       "0     32281                    Kimi no Na wa.   \n",
       "1      5114  Fullmetal Alchemist: Brotherhood   \n",
       "2     28977                          Gintama°   \n",
       "3      9253                       Steins;Gate   \n",
       "4      9969                     Gintama&#039;   \n",
       "\n",
       "                                               genre   type episodes  rating  \\\n",
       "0               Drama, Romance, School, Supernatural  Movie        1    9.37   \n",
       "1  Action, Adventure, Drama, Fantasy, Magic, Mili...     TV       64    9.26   \n",
       "2  Action, Comedy, Historical, Parody, Samurai, S...     TV       51    9.25   \n",
       "3                                   Sci-Fi, Thriller     TV       24    9.17   \n",
       "4  Action, Comedy, Historical, Parody, Samurai, S...     TV       51    9.16   \n",
       "\n",
       "   members  \n",
       "0   200630  \n",
       "1   793665  \n",
       "2   114262  \n",
       "3   673572  \n",
       "4   151266  "
      ]
     },
     "execution_count": 3,
     "metadata": {},
     "output_type": "execute_result"
    }
   ],
   "source": [
    "# Load the dataset\n",
    "anime = pd.read_csv('anime.csv')\n",
    "anime.head()"
   ]
  },
  {
   "cell_type": "markdown",
   "id": "d7fef91c",
   "metadata": {},
   "source": [
    "# Handle missing values\n"
   ]
  },
  {
   "cell_type": "code",
   "execution_count": 4,
   "id": "016f6f9a",
   "metadata": {},
   "outputs": [],
   "source": [
    "anime.fillna({'genre': '', 'rating': anime['rating'].mean(), 'episodes': 0}, inplace=True)\n"
   ]
  },
  {
   "cell_type": "markdown",
   "id": "387b3ce0",
   "metadata": {},
   "source": [
    "# Feature Extraction\n"
   ]
  },
  {
   "cell_type": "code",
   "execution_count": 5,
   "id": "0d126f17",
   "metadata": {},
   "outputs": [],
   "source": [
    "# Convert 'genre' to numerical representation using one-hot encoding\n",
    "mlb = MultiLabelBinarizer()\n",
    "anime['genre'] = anime['genre'].apply(lambda x: x.split(', ') if x else [])\n",
    "genre_encoded = mlb.fit_transform(anime['genre'])\n",
    "genre_df = pd.DataFrame(genre_encoded, columns=mlb.classes_)"
   ]
  },
  {
   "cell_type": "code",
   "execution_count": 6,
   "id": "b3239f81",
   "metadata": {},
   "outputs": [],
   "source": [
    "# Normalize numerical features\n",
    "scaler = StandardScaler()\n",
    "anime['rating'] = scaler.fit_transform(anime[['rating']])\n"
   ]
  },
  {
   "cell_type": "code",
   "execution_count": 7,
   "id": "93545bea",
   "metadata": {},
   "outputs": [],
   "source": [
    "# Combine features\n",
    "features = pd.concat([genre_df, anime[['rating']]], axis=1)"
   ]
  },
  {
   "cell_type": "code",
   "execution_count": 11,
   "id": "215fb374",
   "metadata": {},
   "outputs": [],
   "source": [
    "# Compute cosine similarity on training set\n",
    "train_features = features.loc[train.index]\n",
    "cos_sim = cosine_similarity(train_features)\n",
    "\n",
    "# Recommendation function based on cosine similarity\n",
    "def recommend_anime(anime_id, df=train, features=train_features, cosine_sim=cos_sim, top_n=10):\n",
    "    idx = df.index[df['anime_id'] == anime_id].tolist()[0]\n",
    "    sim_scores = list(enumerate(cosine_sim[idx]))\n",
    "    sim_scores = sorted(sim_scores, key=lambda x: x[1], reverse=True)\n",
    "    sim_scores = sim_scores[1:top_n+1]\n",
    "    anime_indices = [i[0] for i in sim_scores]\n",
    "    return df.iloc[anime_indices]\n"
   ]
  },
  {
   "cell_type": "code",
   "execution_count": 12,
   "id": "7c46e5a5",
   "metadata": {},
   "outputs": [],
   "source": [
    "\"\"\"# Evaluation\n",
    "train, test = train_test_split(anime, test_size=0.2, random_state=42)\n",
    "def recommend_anime(anime_id, cosine_sim=cos_sim, df=anime, top_n=10):\n",
    "    idx = df.index[df['anime_id'] == anime_id].tolist()[0]\n",
    "    sim_scores = list(enumerate(cosine_sim[idx]))\n",
    "    sim_scores = sorted(sim_scores, key=lambda x: x[1], reverse=True)\n",
    "    sim_scores = sim_scores[1:top_n+1]\n",
    "    anime_indices = [i[0] for i in sim_scores]\n",
    "    return df[['anime_id', 'name']].iloc[anime_indices]\n",
    "\"\"\"\n",
    "def recommend_anime(anime_id, cosine_sim=cos_sim, df=anime, top_n=10):\n",
    "    if anime_id not in df['anime_id'].values:\n",
    "        return pd.DataFrame()  # Return empty DataFrame if anime_id not in training set\n",
    "    \n",
    "    idx = df.index[df['anime_id'] == anime_id].tolist()[0]\n",
    "    sim_scores = list(enumerate(cosine_sim[idx]))\n",
    "    sim_scores = sorted(sim_scores, key=lambda x: x[1], reverse=True)\n",
    "    sim_scores = sim_scores[1:top_n+1]\n",
    "    anime_indices = [i[0] for i in sim_scores]\n",
    "    return df[['anime_id', 'name']].iloc[anime_indices]\n"
   ]
  },
  {
   "cell_type": "code",
   "execution_count": 13,
   "id": "704f1ae3",
   "metadata": {},
   "outputs": [
    {
     "name": "stdout",
     "output_type": "stream",
     "text": [
      "      anime_id                                               name\n",
      "1956       935                                         Witchblade\n",
      "1581      8115                               Uchuu Show e Youkoso\n",
      "2132     21881                                Sword Art Online II\n",
      "4880      1964                      Sakura Taisen: Ecole de Paris\n",
      "839       2963                                          Minami-ke\n",
      "1573      6325  Naruto: Shippuuden Movie 3 - Hi no Ishi wo Tsu...\n",
      "1853     10444  Digimon Xros Wars: Aku no Death General to Nan...\n",
      "4305      1718                                      Winter Garden\n",
      "7500      8935                                  Nekketsu Uchuujin\n",
      "8524     15137                                    Entotsuya Peroo\n"
     ]
    }
   ],
   "source": [
    "# Example Recommendation\n",
    "recommended_anime = recommend_anime(anime_id=9963, top_n=10)\n",
    "print(recommended_anime)\n"
   ]
  },
  {
   "cell_type": "code",
   "execution_count": 15,
   "id": "2a4e82d8",
   "metadata": {},
   "outputs": [
    {
     "name": "stdout",
     "output_type": "stream",
     "text": [
      "Precision: 1.00\n",
      "Recall: 1.00\n",
      "F1-Score: 1.00\n"
     ]
    }
   ],
   "source": [
    "\n",
    "# Split dataset into training and testing sets\n",
    "train, test = train_test_split(anime, test_size=0.2, random_state=42)\n",
    "\n",
    "# Initialize lists to store ground truth and predictions\n",
    "ground_truth = []\n",
    "predictions = []\n",
    "\n",
    "# Mean rating to determine relevance\n",
    "mean_rating = train['rating'].mean()\n",
    "\n",
    "for _, row in test.iterrows():\n",
    "    anime_id = row['anime_id']\n",
    "    \n",
    "    # Skip anime not present in the training set\n",
    "    if anime_id not in train['anime_id'].values:\n",
    "        continue\n",
    "    \n",
    "    recommended_anime = recommend_anime(anime_id, top_n=10)\n",
    "    \n",
    "    if recommended_anime.empty:\n",
    "        continue\n",
    "    \n",
    "    actual_ratings = test[test['anime_id'].isin(recommended_anime['anime_id'])]['rating']\n",
    "    true_relevant = (actual_ratings > mean_rating).astype(int).tolist()\n",
    "    \n",
    "    ground_truth.extend(true_relevant)\n",
    "    predictions.extend([1] * len(true_relevant))\n",
    "\n",
    "# Include non-relevant predictions to avoid all 1s in predictions\n",
    "if not predictions:\n",
    "    predictions = [0]\n",
    "\n",
    "# Include non-relevant items in ground truth to avoid all 1s\n",
    "if not ground_truth:\n",
    "    ground_truth = [0]\n",
    "\n",
    "# Compute precision, recall, and F1-score\n",
    "\n",
    "from sklearn.metrics import precision_score, recall_score, f1_score\n",
    "precision = precision_score(ground_truth, predictions, average='macro', zero_division=0)\n",
    "recall = recall_score(ground_truth, predictions, average='macro', zero_division=0)\n",
    "f1 = f1_score(ground_truth, predictions, average='macro', zero_division=0)\n",
    "\n",
    "print(f'Precision: {precision:.2f}')\n",
    "print(f'Recall: {recall:.2f}')\n",
    "print(f'F1-Score: {f1:.2f}')"
   ]
  },
  {
   "cell_type": "code",
   "execution_count": null,
   "id": "c309f641",
   "metadata": {},
   "outputs": [],
   "source": []
  },
  {
   "cell_type": "code",
   "execution_count": null,
   "id": "323b6760",
   "metadata": {},
   "outputs": [],
   "source": []
  },
  {
   "cell_type": "code",
   "execution_count": null,
   "id": "5294480d",
   "metadata": {},
   "outputs": [],
   "source": []
  }
 ],
 "metadata": {
  "kernelspec": {
   "display_name": "Python 3 (ipykernel)",
   "language": "python",
   "name": "python3"
  },
  "language_info": {
   "codemirror_mode": {
    "name": "ipython",
    "version": 3
   },
   "file_extension": ".py",
   "mimetype": "text/x-python",
   "name": "python",
   "nbconvert_exporter": "python",
   "pygments_lexer": "ipython3",
   "version": "3.11.7"
  }
 },
 "nbformat": 4,
 "nbformat_minor": 5
}
