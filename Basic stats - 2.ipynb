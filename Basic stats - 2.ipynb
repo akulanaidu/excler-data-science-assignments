{
 "cells": [
  {
   "cell_type": "markdown",
   "id": "86188358-3c7c-47f1-b3c7-4dc2bebb8992",
   "metadata": {},
   "source": [
    "# Estimation And Confidence Intervals\n",
    "# Data"
   ]
  },
  {
   "cell_type": "markdown",
   "id": "fa2d256e-12e4-4f8c-9688-3c47311ccf11",
   "metadata": {},
   "source": [
    "    a. Build 99% Confidence Interval Using Sample Standard Deviation"
   ]
  },
  {
   "cell_type": "code",
   "execution_count": 5,
   "id": "a0f7cf6b-8cc6-43e2-a5c9-f869cf99f5d4",
   "metadata": {},
   "outputs": [],
   "source": [
    "import numpy as np\n",
    "from scipy import stats\n",
    "\n",
    "data = np.array([1.13, 1.55, 1.43, 0.92, 1.25, 1.36, 1.32, 0.85, 1.07, 1.48, 1.20, 1.33, 1.18, 1.22, 1.29])"
   ]
  },
  {
   "cell_type": "code",
   "execution_count": 6,
   "id": "a5941239-5588-468b-9dce-7c9ff82c9732",
   "metadata": {},
   "outputs": [
    {
     "name": "stdout",
     "output_type": "stream",
     "text": [
      "99% Confidence Interval: (1.0952316686385626, 1.3821016646947706)\n"
     ]
    }
   ],
   "source": [
    "#Build 99% Confidence Interval Using Sample Standard Deviation\n",
    "\n",
    "sample_mean = np.mean(data)\n",
    "sample_std = np.std(data)\n",
    "n = len(data)\n",
    "\n",
    "# Calculate the margin of error\n",
    "margin_error = stats.t.ppf(1 - 0.01/2, n-1) * sample_std / np.sqrt(n)\n",
    "\n",
    "# Calculate the confidence interval\n",
    "lower_bound = sample_mean - margin_error\n",
    "upper_bound = sample_mean + margin_error\n",
    "\n",
    "print(\"99% Confidence Interval:\", (lower_bound, upper_bound))\n"
   ]
  },
  {
   "cell_type": "markdown",
   "id": "adfcbad3-1702-4cd4-9c0f-3e722a5f927e",
   "metadata": {},
   "source": [
    "       b. Build 99% Confidence Interval Using Known Population Standard Deviation"
   ]
  },
  {
   "cell_type": "code",
   "execution_count": 11,
   "id": "df312625-61db-4877-9606-b22690779553",
   "metadata": {},
   "outputs": [
    {
     "name": "stdout",
     "output_type": "stream",
     "text": [
      "99% Confidence Interval (Known Standard Deviation): (1.0849431688867082, 1.392390164446625)\n"
     ]
    }
   ],
   "source": [
    "import numpy as np\n",
    "known_std = 0.2\n",
    "\n",
    "# Calculate the critical value for a 99% confidence interval with 14 degrees of freedom\n",
    "critical_value = stats.t.ppf(1 - 0.01/2, 14)\n",
    "\n",
    "# Calculate the margin of error\n",
    "margin_error = critical_value * known_std / np.sqrt(15)\n",
    "\n",
    "# Construct the confidence interval\n",
    "lower_bound = sample_mean - margin_error\n",
    "upper_bound = sample_mean + margin_error\n",
    "\n",
    "print(\"99% Confidence Interval (Known Standard Deviation):\", (lower_bound, upper_bound))"
   ]
  },
  {
   "cell_type": "code",
   "execution_count": null,
   "id": "b20d106d-5c19-45ad-871a-806eca3748f2",
   "metadata": {},
   "outputs": [],
   "source": []
  }
 ],
 "metadata": {
  "kernelspec": {
   "display_name": "Python 3 (ipykernel)",
   "language": "python",
   "name": "python3"
  },
  "language_info": {
   "codemirror_mode": {
    "name": "ipython",
    "version": 3
   },
   "file_extension": ".py",
   "mimetype": "text/x-python",
   "name": "python",
   "nbconvert_exporter": "python",
   "pygments_lexer": "ipython3",
   "version": "3.11.7"
  }
 },
 "nbformat": 4,
 "nbformat_minor": 5
}
