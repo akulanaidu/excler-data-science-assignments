{
 "cells": [
  {
   "cell_type": "markdown",
   "id": "e06da7b5-98bd-4caf-a741-7853ec21df63",
   "metadata": {},
   "source": [
    "# CHI-SQUARE TEST"
   ]
  },
  {
   "cell_type": "code",
   "execution_count": 1,
   "id": "17379e47-9c6b-4356-a8fb-60a288e52c4a",
   "metadata": {},
   "outputs": [],
   "source": [
    "\n",
    "import pandas as pd\n",
    "import researchpy as rp\n",
    "\n",
    "# Step 1: Create a DataFrame for the data\n",
    "data = {\n",
    "    \n",
    "    'Smart Thermostat': [50, 80, 60, 30, 20],\n",
    "    'Smart Light': [70, 100, 90, 50, 50]\n",
    "}"
   ]
  },
  {
   "cell_type": "markdown",
   "id": "5590f132-8324-4de5-8fed-9ffd3617188d",
   "metadata": {},
   "source": [
    "# Define the Null and Alternative Hypotheses"
   ]
  },
  {
   "cell_type": "raw",
   "id": "3fec16dc-c14c-45dd-a47b-3047b9abec28",
   "metadata": {},
   "source": [
    "# Null Hypothesis (H0): There is no association between the type of smart home device purchased and the customer satisfaction level.\n",
    "# Alternative Hypothesis (H1): There is an association between the type of smart home device purchased and the customer satisfaction level."
   ]
  },
  {
   "cell_type": "markdown",
   "id": "cdfd6422-dbb7-419e-b3c4-4c3b930eb455",
   "metadata": {},
   "source": [
    "# . Compute the Chi-Square Statistic"
   ]
  },
  {
   "cell_type": "code",
   "execution_count": 3,
   "id": "08edffc1-7661-46a6-8b91-5ea844741331",
   "metadata": {},
   "outputs": [
    {
     "name": "stderr",
     "output_type": "stream",
     "text": [
      "C:\\Users\\New\\anaconda3\\Lib\\site-packages\\researchpy\\crosstab.py:146: FutureWarning: Setting an item of incompatible dtype is deprecated and will raise in a future error of pandas. Value 'Pearson Chi-square ( 12.0) = ' has dtype incompatible with float64, please explicitly cast to a compatible dtype first.\n",
      "  table.iloc[0,0] = f\"Pearson Chi-square ({dof: .1f}) = \"\n"
     ]
    },
    {
     "data": {
      "text/html": [
       "<div>\n",
       "<style scoped>\n",
       "    .dataframe tbody tr th:only-of-type {\n",
       "        vertical-align: middle;\n",
       "    }\n",
       "\n",
       "    .dataframe tbody tr th {\n",
       "        vertical-align: top;\n",
       "    }\n",
       "\n",
       "    .dataframe thead th {\n",
       "        text-align: right;\n",
       "    }\n",
       "</style>\n",
       "<table border=\"1\" class=\"dataframe\">\n",
       "  <thead>\n",
       "    <tr style=\"text-align: right;\">\n",
       "      <th></th>\n",
       "      <th>Chi-square test</th>\n",
       "      <th>results</th>\n",
       "    </tr>\n",
       "  </thead>\n",
       "  <tbody>\n",
       "    <tr>\n",
       "      <th>0</th>\n",
       "      <td>Pearson Chi-square ( 12.0) =</td>\n",
       "      <td>15.0000</td>\n",
       "    </tr>\n",
       "    <tr>\n",
       "      <th>1</th>\n",
       "      <td>p-value =</td>\n",
       "      <td>0.2414</td>\n",
       "    </tr>\n",
       "    <tr>\n",
       "      <th>2</th>\n",
       "      <td>Cramer's V =</td>\n",
       "      <td>1.0000</td>\n",
       "    </tr>\n",
       "  </tbody>\n",
       "</table>\n",
       "</div>"
      ],
      "text/plain": [
       "                 Chi-square test  results\n",
       "0  Pearson Chi-square ( 12.0) =   15.0000\n",
       "1                     p-value =    0.2414\n",
       "2                  Cramer's V =    1.0000"
      ]
     },
     "execution_count": 3,
     "metadata": {},
     "output_type": "execute_result"
    }
   ],
   "source": [
    "df = pd.DataFrame(data)\n",
    "table,results = rp.crosstab(df[\"Smart Thermostat\"],df[\"Smart Light\"],test=\"chi-square\")\n",
    "table\n",
    "\n",
    "results\n"
   ]
  },
  {
   "cell_type": "code",
   "execution_count": 4,
   "id": "45b6201d-80c5-48f8-81ec-92af3b7b88a2",
   "metadata": {},
   "outputs": [],
   "source": [
    "\n",
    "from scipy.stats import chi2\n",
    "\n",
    "# Given significance level (alpha) and degrees of freedom (df)\n",
    "alpha = 0.05\n",
    "df = len(data) - 1  # Assuming 'data' is your contingency table\n",
    "\n",
    "pvalue=0.2414"
   ]
  },
  {
   "cell_type": "markdown",
   "id": "8b9616eb-bc9b-4b89-a215-6c97166c157c",
   "metadata": {},
   "source": [
    "#  Determine the Critical Value:"
   ]
  },
  {
   "cell_type": "code",
   "execution_count": 5,
   "id": "ebfdbd19-7bd1-4792-9f17-19d449983fdc",
   "metadata": {},
   "outputs": [
    {
     "name": "stdout",
     "output_type": "stream",
     "text": [
      "Critical Value: 3.841458820694124\n"
     ]
    }
   ],
   "source": [
    "\n",
    " # Calculate the critical value\n",
    "critical_value = chi2.ppf(1 - alpha, df)\n",
    "\n",
    "print(\"Critical Value:\", critical_value)\n"
   ]
  },
  {
   "cell_type": "code",
   "execution_count": 6,
   "id": "4057a808-eb02-4983-8c28-9ad024aff7fd",
   "metadata": {},
   "outputs": [
    {
     "name": "stdout",
     "output_type": "stream",
     "text": [
      "Chi-Square Value: 5.638227513227513\n"
     ]
    }
   ],
   "source": [
    "\n",
    "\n",
    "from scipy.stats import chi2_contingency\n",
    "\n",
    "df = pd.DataFrame(data)\n",
    "\n",
    "# Step 2: Perform chi-square test using scipy.stats\n",
    "chi2, pvalue, dof, expected = chi2_contingency(df)\n",
    "\n",
    "# Print chi-square value\n",
    "print(\"Chi-Square Value:\", chi2)\n"
   ]
  },
  {
   "cell_type": "markdown",
   "id": "0df68ab6-f717-4a54-9e40-f9937d51e429",
   "metadata": {},
   "source": [
    "# Make a Decision:"
   ]
  },
  {
   "cell_type": "code",
   "execution_count": 15,
   "id": "d0e6f48a-785c-4d8a-83a3-2aba3267c0f1",
   "metadata": {},
   "outputs": [
    {
     "name": "stdout",
     "output_type": "stream",
     "text": [
      "Reject Null Hypothesis (H0): There is a significant association between the type of device and customer satisfaction.\n"
     ]
    }
   ],
   "source": [
    "\n",
    "if chi2 > critical_value:\n",
    "    print(\"Reject Null Hypothesis (H0): There is a significant association between the type of device and customer satisfaction.\")\n",
    "else:\n",
    "    print(\"Fail to Reject Null Hypothesis (H0): There is no significant association between the type of device and customer satisfaction.\")\n",
    "\n"
   ]
  },
  {
   "cell_type": "code",
   "execution_count": 16,
   "id": "c88c484b-2228-4f40-a7f2-5e7e3aff6ef6",
   "metadata": {},
   "outputs": [
    {
     "name": "stdout",
     "output_type": "stream",
     "text": [
      "Fail to Reject Null Hypothesis (H0): There is no significant association between the type of device and customer satisfaction.\n"
     ]
    }
   ],
   "source": [
    "\n",
    "\n",
    "if pvalue > critical_value:\n",
    "    print(\"Reject Null Hypothesis (H0): There is a significant association between the type of device and customer satisfaction.\")\n",
    "else:\n",
    "    print(\"Fail to Reject Null Hypothesis (H0): There is no significant association between the type of device and customer satisfaction.\")\n",
    "\n"
   ]
  },
  {
   "cell_type": "markdown",
   "id": "ee335d39-174a-4676-a4b0-37754e32474d",
   "metadata": {},
   "source": [
    "# conclusion."
   ]
  },
  {
   "cell_type": "raw",
   "id": "824ee61b-b94d-402c-845b-a72683855af7",
   "metadata": {},
   "source": [
    "here is a significant association between the type of device and customer satisfaction."
   ]
  },
  {
   "cell_type": "code",
   "execution_count": null,
   "id": "56ea8c48-5f5e-4a17-af46-60dc9778ec85",
   "metadata": {},
   "outputs": [],
   "source": []
  }
 ],
 "metadata": {
  "kernelspec": {
   "display_name": "Python 3 (ipykernel)",
   "language": "python",
   "name": "python3"
  },
  "language_info": {
   "codemirror_mode": {
    "name": "ipython",
    "version": 3
   },
   "file_extension": ".py",
   "mimetype": "text/x-python",
   "name": "python",
   "nbconvert_exporter": "python",
   "pygments_lexer": "ipython3",
   "version": "3.11.7"
  }
 },
 "nbformat": 4,
 "nbformat_minor": 5
}
