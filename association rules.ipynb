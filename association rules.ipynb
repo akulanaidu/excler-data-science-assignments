{
 "cells": [
  {
   "cell_type": "markdown",
   "id": "4b549364-8da8-42a2-9d8f-b17d3c7de28b",
   "metadata": {},
   "source": [
    "# Association rules"
   ]
  },
  {
   "cell_type": "code",
   "execution_count": 1,
   "id": "e97c0424-2f76-42b5-b3ff-e1f4fe3aae37",
   "metadata": {},
   "outputs": [
    {
     "data": {
      "text/html": [
       "<div>\n",
       "<style scoped>\n",
       "    .dataframe tbody tr th:only-of-type {\n",
       "        vertical-align: middle;\n",
       "    }\n",
       "\n",
       "    .dataframe tbody tr th {\n",
       "        vertical-align: top;\n",
       "    }\n",
       "\n",
       "    .dataframe thead th {\n",
       "        text-align: right;\n",
       "    }\n",
       "</style>\n",
       "<table border=\"1\" class=\"dataframe\">\n",
       "  <thead>\n",
       "    <tr style=\"text-align: right;\">\n",
       "      <th></th>\n",
       "      <th>0</th>\n",
       "    </tr>\n",
       "  </thead>\n",
       "  <tbody>\n",
       "    <tr>\n",
       "      <th>0</th>\n",
       "      <td>shrimp,almonds,avocado,vegetables mix,green gr...</td>\n",
       "    </tr>\n",
       "    <tr>\n",
       "      <th>1</th>\n",
       "      <td>burgers,meatballs,eggs</td>\n",
       "    </tr>\n",
       "    <tr>\n",
       "      <th>2</th>\n",
       "      <td>chutney</td>\n",
       "    </tr>\n",
       "    <tr>\n",
       "      <th>3</th>\n",
       "      <td>turkey,avocado</td>\n",
       "    </tr>\n",
       "    <tr>\n",
       "      <th>4</th>\n",
       "      <td>mineral water,milk,energy bar,whole wheat rice...</td>\n",
       "    </tr>\n",
       "    <tr>\n",
       "      <th>...</th>\n",
       "      <td>...</td>\n",
       "    </tr>\n",
       "    <tr>\n",
       "      <th>7496</th>\n",
       "      <td>butter,light mayo,fresh bread</td>\n",
       "    </tr>\n",
       "    <tr>\n",
       "      <th>7497</th>\n",
       "      <td>burgers,frozen vegetables,eggs,french fries,ma...</td>\n",
       "    </tr>\n",
       "    <tr>\n",
       "      <th>7498</th>\n",
       "      <td>chicken</td>\n",
       "    </tr>\n",
       "    <tr>\n",
       "      <th>7499</th>\n",
       "      <td>escalope,green tea</td>\n",
       "    </tr>\n",
       "    <tr>\n",
       "      <th>7500</th>\n",
       "      <td>eggs,frozen smoothie,yogurt cake,low fat yogurt</td>\n",
       "    </tr>\n",
       "  </tbody>\n",
       "</table>\n",
       "<p>7501 rows × 1 columns</p>\n",
       "</div>"
      ],
      "text/plain": [
       "                                                      0\n",
       "0     shrimp,almonds,avocado,vegetables mix,green gr...\n",
       "1                                burgers,meatballs,eggs\n",
       "2                                               chutney\n",
       "3                                        turkey,avocado\n",
       "4     mineral water,milk,energy bar,whole wheat rice...\n",
       "...                                                 ...\n",
       "7496                      butter,light mayo,fresh bread\n",
       "7497  burgers,frozen vegetables,eggs,french fries,ma...\n",
       "7498                                            chicken\n",
       "7499                                 escalope,green tea\n",
       "7500    eggs,frozen smoothie,yogurt cake,low fat yogurt\n",
       "\n",
       "[7501 rows x 1 columns]"
      ]
     },
     "execution_count": 1,
     "metadata": {},
     "output_type": "execute_result"
    }
   ],
   "source": [
    "import pandas as pd\n",
    "df = pd.read_excel('Online retail.xlsx',header = None)\n",
    "df"
   ]
  },
  {
   "cell_type": "markdown",
   "id": "612d1fce-b2c2-48cd-bd7d-f23e2e4e7ec2",
   "metadata": {},
   "source": [
    "# Data Preprocessing :"
   ]
  },
  {
   "cell_type": "code",
   "execution_count": 2,
   "id": "473e1c7d-f511-424f-9f8d-58a571e9fc3c",
   "metadata": {},
   "outputs": [
    {
     "data": {
      "text/plain": [
       "0    0\n",
       "dtype: int64"
      ]
     },
     "execution_count": 2,
     "metadata": {},
     "output_type": "execute_result"
    }
   ],
   "source": [
    "df.isnull().sum()"
   ]
  },
  {
   "cell_type": "code",
   "execution_count": 3,
   "id": "32e3a564-9bdc-4990-adc4-5fbc2f3ba56b",
   "metadata": {},
   "outputs": [
    {
     "name": "stdout",
     "output_type": "stream",
     "text": [
      "<class 'pandas.core.frame.DataFrame'>\n",
      "RangeIndex: 7501 entries, 0 to 7500\n",
      "Data columns (total 1 columns):\n",
      " #   Column  Non-Null Count  Dtype \n",
      "---  ------  --------------  ----- \n",
      " 0   0       7501 non-null   object\n",
      "dtypes: object(1)\n",
      "memory usage: 58.7+ KB\n"
     ]
    }
   ],
   "source": [
    "df.info()"
   ]
  },
  {
   "cell_type": "code",
   "execution_count": 4,
   "id": "52776715-2529-4515-9ced-7bd0ed7922f0",
   "metadata": {},
   "outputs": [
    {
     "name": "stdout",
     "output_type": "stream",
     "text": [
      "Number of transactions: 7500\n"
     ]
    }
   ],
   "source": [
    "# Generate transactions\n",
    "transactions = []\n",
    "for i in range(len(df)):\n",
    "    transactions.append([str(item) for item in df.iloc[i, 0].split(',')])\n",
    "\n",
    "# Remove unnecessary first transaction (header)\n",
    "transactions = transactions[1:]\n",
    "\n",
    "# Display number of transactions\n",
    "print(\"Number of transactions:\", len(transactions))"
   ]
  },
  {
   "cell_type": "markdown",
   "id": "2d8e770a-90b4-4e25-bc78-fa993aa1f930",
   "metadata": {},
   "source": [
    "# Association Rule Mining:"
   ]
  },
  {
   "cell_type": "code",
   "execution_count": 7,
   "id": "d20d7d8d-f038-48a7-8976-3b1fa28abcb7",
   "metadata": {},
   "outputs": [],
   "source": [
    "# Apply Apriori algorithm\n",
    "from apyori import apriori\n",
    "rules = apriori(transactions=transactions,\n",
    "                min_support=0.003,\n",
    "                min_confidence=0.2,\n",
    "                min_lift=3,\n",
    "                min_length=2,\n",
    "                max_length=2)"
   ]
  },
  {
   "cell_type": "code",
   "execution_count": 8,
   "id": "d7cd582c-75e1-4817-b51d-a4574be850b9",
   "metadata": {},
   "outputs": [
    {
     "name": "stdout",
     "output_type": "stream",
     "text": [
      "Number of association rules: 9\n"
     ]
    }
   ],
   "source": [
    "# Converting rules to list\n",
    "report = list(rules)\n",
    "\n",
    "# Displaying number of generated association rules\n",
    "print(\"Number of association rules:\", len(report))"
   ]
  },
  {
   "cell_type": "code",
   "execution_count": 9,
   "id": "a42a304b-0d40-404c-ad12-12a12d800eac",
   "metadata": {},
   "outputs": [
    {
     "data": {
      "text/plain": [
       "[RelationRecord(items=frozenset({'light cream', 'chicken'}), support=0.004533333333333334, ordered_statistics=[OrderedStatistic(items_base=frozenset({'light cream'}), items_add=frozenset({'chicken'}), confidence=0.2905982905982906, lift=4.843304843304844)]),\n",
       " RelationRecord(items=frozenset({'mushroom cream sauce', 'escalope'}), support=0.005733333333333333, ordered_statistics=[OrderedStatistic(items_base=frozenset({'mushroom cream sauce'}), items_add=frozenset({'escalope'}), confidence=0.30069930069930073, lift=3.7903273197390845)]),\n",
       " RelationRecord(items=frozenset({'pasta', 'escalope'}), support=0.005866666666666667, ordered_statistics=[OrderedStatistic(items_base=frozenset({'pasta'}), items_add=frozenset({'escalope'}), confidence=0.37288135593220345, lift=4.700185158809287)]),\n",
       " RelationRecord(items=frozenset({'fromage blanc', 'honey'}), support=0.0033333333333333335, ordered_statistics=[OrderedStatistic(items_base=frozenset({'fromage blanc'}), items_add=frozenset({'honey'}), confidence=0.2450980392156863, lift=5.178127589063795)]),\n",
       " RelationRecord(items=frozenset({'herb & pepper', 'ground beef'}), support=0.016, ordered_statistics=[OrderedStatistic(items_base=frozenset({'herb & pepper'}), items_add=frozenset({'ground beef'}), confidence=0.3234501347708895, lift=3.2915549671393096)]),\n",
       " RelationRecord(items=frozenset({'ground beef', 'tomato sauce'}), support=0.005333333333333333, ordered_statistics=[OrderedStatistic(items_base=frozenset({'tomato sauce'}), items_add=frozenset({'ground beef'}), confidence=0.37735849056603776, lift=3.840147461662528)]),\n",
       " RelationRecord(items=frozenset({'light cream', 'olive oil'}), support=0.0032, ordered_statistics=[OrderedStatistic(items_base=frozenset({'light cream'}), items_add=frozenset({'olive oil'}), confidence=0.20512820512820515, lift=3.120611639881417)]),\n",
       " RelationRecord(items=frozenset({'whole wheat pasta', 'olive oil'}), support=0.008, ordered_statistics=[OrderedStatistic(items_base=frozenset({'whole wheat pasta'}), items_add=frozenset({'olive oil'}), confidence=0.2714932126696833, lift=4.130221288078346)]),\n",
       " RelationRecord(items=frozenset({'shrimp', 'pasta'}), support=0.005066666666666666, ordered_statistics=[OrderedStatistic(items_base=frozenset({'pasta'}), items_add=frozenset({'shrimp'}), confidence=0.3220338983050848, lift=4.514493901473151)])]"
      ]
     },
     "execution_count": 9,
     "metadata": {},
     "output_type": "execute_result"
    }
   ],
   "source": [
    "report"
   ]
  },
  {
   "cell_type": "code",
   "execution_count": 10,
   "id": "381e45fa-2e47-4d00-bcb7-48b8cecffe7a",
   "metadata": {},
   "outputs": [],
   "source": [
    "# reports accesing \n",
    "report[0]#gives first report\n",
    "report[0][0]#set of required data\n",
    "report[0][1] # support\n",
    "report[0][2][0][0] # base item\n",
    "report[0][2][0][1] # add item\n",
    "report[0][2][0][2] # confidence\n",
    "\n",
    "\n",
    "a=[]\n",
    "b=[]\n",
    "c=[]\n",
    "d=[]\n",
    "e = []"
   ]
  },
  {
   "cell_type": "code",
   "execution_count": 11,
   "id": "20c978a3-3aa9-485b-ac83-ef095dfaa4a1",
   "metadata": {},
   "outputs": [],
   "source": [
    "for i in range(0,9):\n",
    "    a.append(report[i][1]) # support\n",
    "    b.append(report[i][2][0][0]) # base item\n",
    "    c.append(report[i][2][0][1]) # add item\n",
    "    d.append(report[i][2][0][2]) # confidence\n",
    "    e.append(report[i][2][0][3]) # lift"
   ]
  },
  {
   "cell_type": "markdown",
   "id": "3cab6d97-411c-4f98-b93c-453d148a3393",
   "metadata": {},
   "source": [
    "# Interpret the results and provide insights into customer purchasing behaviour based on the discovered rules"
   ]
  },
  {
   "cell_type": "code",
   "execution_count": 12,
   "id": "62a6903d-0a59-4c0a-8396-683e1c634ed5",
   "metadata": {},
   "outputs": [
    {
     "data": {
      "text/html": [
       "<div>\n",
       "<style scoped>\n",
       "    .dataframe tbody tr th:only-of-type {\n",
       "        vertical-align: middle;\n",
       "    }\n",
       "\n",
       "    .dataframe tbody tr th {\n",
       "        vertical-align: top;\n",
       "    }\n",
       "\n",
       "    .dataframe thead th {\n",
       "        text-align: right;\n",
       "    }\n",
       "</style>\n",
       "<table border=\"1\" class=\"dataframe\">\n",
       "  <thead>\n",
       "    <tr style=\"text-align: right;\">\n",
       "      <th></th>\n",
       "      <th>Support</th>\n",
       "      <th>baseitem</th>\n",
       "      <th>add item</th>\n",
       "      <th>confidence</th>\n",
       "      <th>lift</th>\n",
       "    </tr>\n",
       "  </thead>\n",
       "  <tbody>\n",
       "    <tr>\n",
       "      <th>0</th>\n",
       "      <td>0.004533</td>\n",
       "      <td>light cream</td>\n",
       "      <td>chicken</td>\n",
       "      <td>0.290598</td>\n",
       "      <td>4.843305</td>\n",
       "    </tr>\n",
       "    <tr>\n",
       "      <th>1</th>\n",
       "      <td>0.005733</td>\n",
       "      <td>mushroom cream sauce</td>\n",
       "      <td>escalope</td>\n",
       "      <td>0.300699</td>\n",
       "      <td>3.790327</td>\n",
       "    </tr>\n",
       "    <tr>\n",
       "      <th>2</th>\n",
       "      <td>0.005867</td>\n",
       "      <td>pasta</td>\n",
       "      <td>escalope</td>\n",
       "      <td>0.372881</td>\n",
       "      <td>4.700185</td>\n",
       "    </tr>\n",
       "    <tr>\n",
       "      <th>3</th>\n",
       "      <td>0.003333</td>\n",
       "      <td>fromage blanc</td>\n",
       "      <td>honey</td>\n",
       "      <td>0.245098</td>\n",
       "      <td>5.178128</td>\n",
       "    </tr>\n",
       "    <tr>\n",
       "      <th>4</th>\n",
       "      <td>0.016000</td>\n",
       "      <td>herb &amp; pepper</td>\n",
       "      <td>ground beef</td>\n",
       "      <td>0.323450</td>\n",
       "      <td>3.291555</td>\n",
       "    </tr>\n",
       "    <tr>\n",
       "      <th>5</th>\n",
       "      <td>0.005333</td>\n",
       "      <td>tomato sauce</td>\n",
       "      <td>ground beef</td>\n",
       "      <td>0.377358</td>\n",
       "      <td>3.840147</td>\n",
       "    </tr>\n",
       "    <tr>\n",
       "      <th>6</th>\n",
       "      <td>0.003200</td>\n",
       "      <td>light cream</td>\n",
       "      <td>olive oil</td>\n",
       "      <td>0.205128</td>\n",
       "      <td>3.120612</td>\n",
       "    </tr>\n",
       "    <tr>\n",
       "      <th>7</th>\n",
       "      <td>0.008000</td>\n",
       "      <td>whole wheat pasta</td>\n",
       "      <td>olive oil</td>\n",
       "      <td>0.271493</td>\n",
       "      <td>4.130221</td>\n",
       "    </tr>\n",
       "    <tr>\n",
       "      <th>8</th>\n",
       "      <td>0.005067</td>\n",
       "      <td>pasta</td>\n",
       "      <td>shrimp</td>\n",
       "      <td>0.322034</td>\n",
       "      <td>4.514494</td>\n",
       "    </tr>\n",
       "  </tbody>\n",
       "</table>\n",
       "</div>"
      ],
      "text/plain": [
       "    Support              baseitem     add item  confidence      lift\n",
       "0  0.004533           light cream      chicken    0.290598  4.843305\n",
       "1  0.005733  mushroom cream sauce     escalope    0.300699  3.790327\n",
       "2  0.005867                 pasta     escalope    0.372881  4.700185\n",
       "3  0.003333         fromage blanc        honey    0.245098  5.178128\n",
       "4  0.016000         herb & pepper  ground beef    0.323450  3.291555\n",
       "5  0.005333          tomato sauce  ground beef    0.377358  3.840147\n",
       "6  0.003200           light cream    olive oil    0.205128  3.120612\n",
       "7  0.008000     whole wheat pasta    olive oil    0.271493  4.130221\n",
       "8  0.005067                 pasta       shrimp    0.322034  4.514494"
      ]
     },
     "execution_count": 12,
     "metadata": {},
     "output_type": "execute_result"
    }
   ],
   "source": [
    "df_new  = pd.concat([pd.DataFrame(a),\n",
    "          pd.DataFrame(b),\n",
    "          pd.DataFrame(c),\n",
    "          pd.DataFrame(d),\n",
    "          pd.DataFrame(e)],axis=1)\n",
    "\n",
    "df_new.columns = ['Support','baseitem','add item','confidence','lift']\n",
    "df_new"
   ]
  },
  {
   "cell_type": "code",
   "execution_count": null,
   "id": "dc79ebe6-4563-4487-b522-b0c4fe6df42b",
   "metadata": {},
   "outputs": [],
   "source": []
  }
 ],
 "metadata": {
  "kernelspec": {
   "display_name": "Python 3 (ipykernel)",
   "language": "python",
   "name": "python3"
  },
  "language_info": {
   "codemirror_mode": {
    "name": "ipython",
    "version": 3
   },
   "file_extension": ".py",
   "mimetype": "text/x-python",
   "name": "python",
   "nbconvert_exporter": "python",
   "pygments_lexer": "ipython3",
   "version": "3.11.7"
  }
 },
 "nbformat": 4,
 "nbformat_minor": 5
}
