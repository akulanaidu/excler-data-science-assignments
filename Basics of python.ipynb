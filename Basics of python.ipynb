{
 "cells": [
  {
   "cell_type": "code",
   "execution_count": 8,
   "id": "ffd11f7d-bb2c-4fca-81a1-d84fcf35072e",
   "metadata": {},
   "outputs": [
    {
     "name": "stdin",
     "output_type": "stream",
     "text": [
      "Enter a number:  55\n"
     ]
    },
    {
     "name": "stdout",
     "output_type": "stream",
     "text": [
      "It is not a prime number.\n"
     ]
    }
   ],
   "source": [
    "#Exercise 1 :- program for checking Prime Numbers or not\n",
    "\n",
    "def is_prime(number):\n",
    "    if number <= 1:\n",
    "        return False\n",
    "    for i in range(2, number):\n",
    "        if number % i == 0:\n",
    "            return False\n",
    "    return True\n",
    "\n",
    "# Input a number from the user\n",
    "num = int(input(\"Enter a number: \"))\n",
    "\n",
    "# Check if the number is prime\n",
    "if is_prime(num):\n",
    "    print(\" It is a prime number.\")\n",
    "else:\n",
    "    print(\"It is not a prime number.\")\n",
    "    \n",
    "    "
   ]
  },
  {
   "cell_type": "code",
   "execution_count": 10,
   "id": "974768f0-0a8e-4189-9be2-b7597fbc9148",
   "metadata": {},
   "outputs": [
    {
     "name": "stdin",
     "output_type": "stream",
     "text": [
      "What is the product of 9 and 9?  81\n"
     ]
    },
    {
     "name": "stdout",
     "output_type": "stream",
     "text": [
      "Correct Answer\n"
     ]
    }
   ],
   "source": [
    " \n",
    "# Exercise 2(Product of Random variables)\n",
    "import random\n",
    "\n",
    "# Generate two random numbers between 1 and 10\n",
    "num1 = random.randint(1,10)\n",
    "num2 = random.randint(1,10)\n",
    "\n",
    "# Calculate the product of the two numbers\n",
    "product = num1 * num2\n",
    "\n",
    "# Ask the user to enter the product of the two numbers\n",
    "user_input =  int(input(f\"What is the product of {num1} and {num2}? \"))\n",
    "\n",
    "# Check if the user's answer is correct\n",
    "if user_input == product:\n",
    "    print(\"Correct Answer\")\n",
    "else:\n",
    "    print(\"Incorrect. The correct answer is:\", product)\n",
    "    \n",
    "    "
   ]
  },
  {
   "cell_type": "code",
   "execution_count": 11,
   "id": "d234ea21-d921-43d7-bfe4-098041247ea7",
   "metadata": {},
   "outputs": [
    {
     "name": "stdout",
     "output_type": "stream",
     "text": [
      "Squares of odd numbers within the range of 100 to 200:\n",
      "101 squared is 10201\n",
      "103 squared is 10609\n",
      "105 squared is 11025\n",
      "107 squared is 11449\n",
      "109 squared is 11881\n",
      "111 squared is 12321\n",
      "113 squared is 12769\n",
      "115 squared is 13225\n",
      "117 squared is 13689\n",
      "119 squared is 14161\n",
      "121 squared is 14641\n",
      "123 squared is 15129\n",
      "125 squared is 15625\n",
      "127 squared is 16129\n",
      "129 squared is 16641\n",
      "131 squared is 17161\n",
      "133 squared is 17689\n",
      "135 squared is 18225\n",
      "137 squared is 18769\n",
      "139 squared is 19321\n",
      "141 squared is 19881\n",
      "143 squared is 20449\n",
      "145 squared is 21025\n",
      "147 squared is 21609\n",
      "149 squared is 22201\n",
      "151 squared is 22801\n",
      "153 squared is 23409\n",
      "155 squared is 24025\n",
      "157 squared is 24649\n",
      "159 squared is 25281\n",
      "161 squared is 25921\n",
      "163 squared is 26569\n",
      "165 squared is 27225\n",
      "167 squared is 27889\n",
      "169 squared is 28561\n",
      "171 squared is 29241\n",
      "173 squared is 29929\n",
      "175 squared is 30625\n",
      "177 squared is 31329\n",
      "179 squared is 32041\n",
      "181 squared is 32761\n",
      "183 squared is 33489\n",
      "185 squared is 34225\n",
      "187 squared is 34969\n",
      "189 squared is 35721\n",
      "191 squared is 36481\n",
      "193 squared is 37249\n",
      "195 squared is 38025\n",
      "197 squared is 38809\n",
      "199 squared is 39601\n"
     ]
    }
   ],
   "source": [
    " # Exercise 3 (Squares of even or odd numbers)\n",
    "    #squares of odd numbers\n",
    "print(\"Squares of odd numbers within the range of 100 to 200:\")\n",
    "for num in range(100, 201):\n",
    "    if num % 2 != 0:\n",
    "        square = num ** 2\n",
    "        print(f\"{num} squared is {square}\")\n",
    "    "
   ]
  },
  {
   "cell_type": "code",
   "execution_count": 12,
   "id": "df7c891a-6e8b-498e-a6a2-4713b60f12f0",
   "metadata": {},
   "outputs": [
    {
     "name": "stdin",
     "output_type": "stream",
     "text": [
      "Enter a text:  Excelr is offering DATA SCIENCE course \n"
     ]
    },
    {
     "name": "stdout",
     "output_type": "stream",
     "text": [
      "Word Counts:\n",
      "Excelr : 1\n",
      "is : 1\n",
      "offering : 1\n",
      "DATA : 1\n",
      "SCIENCE : 1\n",
      "course : 1\n",
      "The number of words in the text is: 6\n"
     ]
    }
   ],
   "source": [
    "\n",
    "#Exercise 4(Word counter)\n",
    "\n",
    "text = input(\"Enter a text: \")\n",
    "# Split the text into words\n",
    "words = text.split()\n",
    "\n",
    "# Count the occurrences of each word\n",
    "word_counts = {}\n",
    "for word in words:\n",
    "    word_counts[word] = word_counts.get(word, 0) + 1\n",
    "\n",
    "# Display the word counts\n",
    "print(\"Word Counts:\")\n",
    "for word, count in word_counts.items():\n",
    "    print(word, \":\", count)\n",
    "    \n",
    "num_words = len(text.split())\n",
    "\n",
    "print(\"The number of words in the text is:\", num_words)    \n",
    "    "
   ]
  },
  {
   "cell_type": "code",
   "execution_count": 13,
   "id": "f1d7dfef-3b86-48ef-b102-f79cf653140a",
   "metadata": {},
   "outputs": [
    {
     "name": "stdin",
     "output_type": "stream",
     "text": [
      "Enter a text:  bob\n"
     ]
    },
    {
     "name": "stdout",
     "output_type": "stream",
     "text": [
      "True\n"
     ]
    }
   ],
   "source": [
    "# Exercise 5 (palindrome)  \n",
    "    \n",
    "def is_palindrome(s):\n",
    "  \n",
    "    # Convert the string to lowercase and remove spaces and punctuation\n",
    "    s = s.lower().replace(\" \", \"\").replace(\".\", \"\").replace(\",\", \"\").replace(\"!\", \"\").replace(\"?\", \"\")\n",
    "    \n",
    "    # Check if the string is equal to its reverse\n",
    "    return s == s[::-1]\n",
    "\n",
    "# Test the function with an example\n",
    "\n",
    "text = input(\"Enter a text: \")\n",
    "print(is_palindrome(text))\n",
    "    \n",
    "    \n",
    "    "
   ]
  },
  {
   "cell_type": "code",
   "execution_count": null,
   "id": "ad744e2a-26bb-4218-8ad8-617b616c90a6",
   "metadata": {},
   "outputs": [],
   "source": []
  }
 ],
 "metadata": {
  "kernelspec": {
   "display_name": "Python 3 (ipykernel)",
   "language": "python",
   "name": "python3"
  },
  "language_info": {
   "codemirror_mode": {
    "name": "ipython",
    "version": 3
   },
   "file_extension": ".py",
   "mimetype": "text/x-python",
   "name": "python",
   "nbconvert_exporter": "python",
   "pygments_lexer": "ipython3",
   "version": "3.11.7"
  }
 },
 "nbformat": 4,
 "nbformat_minor": 5
}
