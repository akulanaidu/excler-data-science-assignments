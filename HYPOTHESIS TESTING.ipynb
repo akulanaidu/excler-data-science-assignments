{
 "cells": [
  {
   "cell_type": "markdown",
   "id": "09cc6991-bef0-41c2-8baf-896b4cdceb13",
   "metadata": {},
   "source": [
    "# HYPOTHESIS TESTING"
   ]
  },
  {
   "cell_type": "code",
   "execution_count": 1,
   "id": "110297e8-793f-4b55-a870-b893e7b313b9",
   "metadata": {},
   "outputs": [],
   "source": [
    "\n",
    "import numpy as np\n",
    "from scipy.stats import t\n",
    "\n",
    "# Given data\n",
    "\n",
    "sample_mean = 3050  \n",
    "theoretical_mean = 1000 + 5 * 600  \n",
    "population_std = 5 * 25  \n",
    "sample_size = 25  \n",
    "alpha = 0.05  # Significance level\n"
   ]
  },
  {
   "cell_type": "markdown",
   "id": "3b40552a-9d99-40b8-a73c-529be413e3ba",
   "metadata": {},
   "source": [
    "# State the Hypotheses statement:"
   ]
  },
  {
   "cell_type": "raw",
   "id": "4f5e4c3a-3edc-4b1f-8510-c082bb61d090",
   "metadata": {},
   "source": [
    "\n",
    " Null Hypothesis (H0): The sample mean is equal to the theoretical mean.\n",
    " Alternative Hypothesis (H1): The sample mean is not equal to the theoretical mean."
   ]
  },
  {
   "cell_type": "markdown",
   "id": "0fc3415a-2b19-4108-a29b-2305c1ba5837",
   "metadata": {},
   "source": [
    "# Calculate the Test Statistic:"
   ]
  },
  {
   "cell_type": "code",
   "execution_count": 2,
   "id": "4e868076-1739-4812-88d5-1162725c825a",
   "metadata": {},
   "outputs": [
    {
     "data": {
      "text/plain": [
       "-38.0"
      ]
     },
     "execution_count": 2,
     "metadata": {},
     "output_type": "execute_result"
    }
   ],
   "source": [
    "\n",
    "\n",
    "# Calculate test statistic (t)\n",
    "t_statistic = (sample_mean - theoretical_mean) / (population_std / np.sqrt(sample_size))\n",
    "t_statistic"
   ]
  },
  {
   "cell_type": "markdown",
   "id": "d827697e-799a-451a-b749-ad197fb947fd",
   "metadata": {},
   "source": [
    "# Determine the Critical Value"
   ]
  },
  {
   "cell_type": "code",
   "execution_count": 4,
   "id": "b616b135-f0e2-4cde-97b2-b2c715624efa",
   "metadata": {},
   "outputs": [
    {
     "name": "stdout",
     "output_type": "stream",
     "text": [
      "Critical Value: 2.0638985616280205\n"
     ]
    }
   ],
   "source": [
    "\n",
    "from scipy.stats import t\n",
    "\n",
    "alpha = 0.05\n",
    "df = sample_size - 1\n",
    "critical_value = t.ppf(1 - alpha/2, df)\n",
    "\n",
    "print(\"Critical Value:\", critical_value)\n"
   ]
  },
  {
   "cell_type": "markdown",
   "id": "ac23ee2d-227f-4fdd-ac26-9774a49bde69",
   "metadata": {},
   "source": [
    "#  Make a Decision"
   ]
  },
  {
   "cell_type": "code",
   "execution_count": 12,
   "id": "a61e4c32-ae7f-475f-80ce-12616c3ba399",
   "metadata": {},
   "outputs": [
    {
     "name": "stdout",
     "output_type": "stream",
     "text": [
      "Reject Null Hypothesis (H0): The sample mean is equal to the theoretical mean.\n"
     ]
    }
   ],
   "source": [
    "\n",
    "if abs(t_statistic) > critical_value:\n",
    "    print(\"Reject Null Hypothesis (H0): The sample mean is equal to the theoretical mean.\")\n",
    "else:\n",
    "    print(\"Fail to Reject Null Hypothesis (H0):  The sample mean is not equal to the theoretical mean.\")"
   ]
  },
  {
   "cell_type": "markdown",
   "id": "3e8b8766-7ea6-4d84-8bf8-d05d2b5e4d89",
   "metadata": {},
   "source": [
    "# conclusion"
   ]
  },
  {
   "cell_type": "raw",
   "id": "38a93f54-d6a5-47f7-9fc4-4d823da38aaf",
   "metadata": {},
   "source": [
    "Based on the results of the hypothesis test, we can conclude that there is sufficient evidence to reject the null hypothesis.\n",
    "This means that there is strong evidence to support the claim that the weekly operating costs are higher than the model suggests."
   ]
  },
  {
   "cell_type": "code",
   "execution_count": null,
   "id": "d41386ac-ca20-42f1-b0c6-20eb41fcf8af",
   "metadata": {},
   "outputs": [],
   "source": []
  }
 ],
 "metadata": {
  "kernelspec": {
   "display_name": "Python 3 (ipykernel)",
   "language": "python",
   "name": "python3"
  },
  "language_info": {
   "codemirror_mode": {
    "name": "ipython",
    "version": 3
   },
   "file_extension": ".py",
   "mimetype": "text/x-python",
   "name": "python",
   "nbconvert_exporter": "python",
   "pygments_lexer": "ipython3",
   "version": "3.11.7"
  }
 },
 "nbformat": 4,
 "nbformat_minor": 5
}
